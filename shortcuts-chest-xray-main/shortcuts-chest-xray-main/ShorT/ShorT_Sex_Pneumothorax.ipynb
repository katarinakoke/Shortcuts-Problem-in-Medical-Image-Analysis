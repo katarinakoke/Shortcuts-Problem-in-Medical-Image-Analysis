{
 "cells": [
  {
   "cell_type": "code",
   "execution_count": 1,
   "metadata": {},
   "outputs": [
    {
     "name": "stderr",
     "output_type": "stream",
     "text": [
      "2024-03-17 15:09:59.020487: W tensorflow/stream_executor/platform/default/dso_loader.cc:64] Could not load dynamic library 'libcudart.so.11.0'; dlerror: libcudart.so.11.0: cannot open shared object file: No such file or directory; LD_LIBRARY_PATH: /opt/ohpc/pub/mpi/openmpi3-gnu8/3.1.4/lib:/opt/ohpc/pub/compiler/gcc/8.3.0/lib64\n",
      "2024-03-17 15:09:59.020529: I tensorflow/stream_executor/cuda/cudart_stub.cc:29] Ignore above cudart dlerror if you do not have a GPU set up on your machine.\n"
     ]
    }
   ],
   "source": [
    "# Standard library imports\n",
    "import argparse\n",
    "import importlib\n",
    "import json\n",
    "import logging\n",
    "import math\n",
    "import os\n",
    "import random\n",
    "import subprocess\n",
    "import sys\n",
    "import time\n",
    "\n",
    "# Third-party library imports\n",
    "import attr\n",
    "import easydict\n",
    "from easydict import EasyDict as edict\n",
    "import matplotlib as mpl\n",
    "from matplotlib import cm, gridspec\n",
    "from matplotlib.cm import get_cmap\n",
    "import matplotlib.pyplot as plt\n",
    "import ml_collections as mlc\n",
    "from ml_collections import ConfigDict\n",
    "import numpy as np\n",
    "import pandas as pd\n",
    "import scipy\n",
    "import seaborn as sns\n",
    "import sklearn\n",
    "from sklearn import metrics\n",
    "from sklearn.utils import shuffle\n",
    "import tensorflow as tf\n",
    "from tensorflow import keras\n",
    "from keras import backend as K\n",
    "import torch\n",
    "import torch.nn.functional as F\n",
    "from torch.utils.data import DataLoader\n",
    "from torch.nn import DataParallel\n",
    "from tensorboardX import SummaryWriter\n",
    "\n",
    "# Custom project imports\n",
    "sys.path.append('/home/pmen/Shortcuts-Problem-in-Medical-Image-Analysis/shortcuts-chest-xray-main/shortcuts-chest-xray-main/ShorT')\n",
    "config_path = '/home/pmen/Shortcuts-Problem-in-Medical-Image-Analysis/shortcuts-chest-xray-main/shortcuts-chest-xray-main/config/config.json'\n",
    "# from data.tfdataset import ImageDataset\n",
    "# from model.classifier import Classifier\n",
    "# from model.utils import get_optimizer\n",
    "# from utils.misc import lr_schedule\n",
    "\n",
    "# Environment configuration\n",
    "os.environ['TF_CPP_MIN_LOG_LEVEL'] = '2'\n",
    "\n",
    "# Seed setting for reproducibility\n",
    "torch.manual_seed(0)\n",
    "torch.cuda.manual_seed_all(0)\n",
    "np.random.seed(0)  # Adding numpy seed setting for complete reproducibility\n",
    "tf.random.set_seed(0)  # Ensuring TensorFlow seed is set for reproducibility\n",
    "\n",
    "#import data and model utils \n",
    "from model.utils import BaselineArch, SingleHead, MultiHead, GradientReversal\n",
    "from data.modified import ImageDataset"
   ]
  },
  {
   "cell_type": "code",
   "execution_count": 2,
   "metadata": {},
   "outputs": [],
   "source": [
    "# Assuming you have loaded your config as a dictionary named cfg\n",
    "with open(config_path, 'r') as f:\n",
    "    cfg = json.load(f)\n",
    "\n",
    "# Convert the dictionary to a ConfigDict which allows attribute-like access\n",
    "cfg = ConfigDict(cfg)"
   ]
  },
  {
   "cell_type": "markdown",
   "metadata": {},
   "source": [
    "# Analysis of data "
   ]
  },
  {
   "cell_type": "code",
   "execution_count": null,
   "metadata": {},
   "outputs": [],
   "source": [
    "# def compute_proportions(data, col_name, col_value, group_name, group_value): \n",
    "#     n_r1 = np.sum(np.logical_and(data[col_name] == col_value, \n",
    "#                              data[group_name] == group_value)) / np.sum(data[group_name] == group_value)\n",
    "    \n",
    "#     print(f\"Proportion of samples {group_name} {group_value} that {col_name} {col_value} : {n_r1} \")"
   ]
  },
  {
   "cell_type": "code",
   "execution_count": null,
   "metadata": {},
   "outputs": [
    {
     "name": "stdout",
     "output_type": "stream",
     "text": [
      "Proportion of samples Pneumothorax 0 that Support Devices 0 : 0.5349544072948328 \n",
      "Proportion of samples Pneumothorax 1 that Support Devices 0 : 0.1 \n",
      "Proportion of samples Pneumothorax 0 that Support Devices 1 : 0.46504559270516715 \n",
      "Proportion of samples Pneumothorax 1 that Support Devices 1 : 0.9 \n"
     ]
    }
   ],
   "source": [
    "# for i in [0,1]:\n",
    "#     for j in [0,1]:\n",
    "#         compute_proportions(data, \"Support Devices\", i, \"Pneumothorax\", j)"
   ]
  },
  {
   "cell_type": "markdown",
   "metadata": {},
   "source": [
    "# Implementation"
   ]
  },
  {
   "cell_type": "code",
   "execution_count": 3,
   "metadata": {},
   "outputs": [
    {
     "name": "stdout",
     "output_type": "stream",
     "text": [
      "Image shape: (512, 512, 1, 1)\n",
      "Y label shape: tf.Tensor([[0.]], shape=(1, 1), dtype=float64)\n",
      "A label shape: tf.Tensor([[0.]], shape=(1, 1), dtype=float64)\n",
      "Image shape: (512, 512, 1, 1)\n",
      "Y label shape: tf.Tensor([[0.]], shape=(1, 1), dtype=float64)\n",
      "A label shape: tf.Tensor([[0.]], shape=(1, 1), dtype=float64)\n",
      "Image shape: (512, 512, 1, 1)\n",
      "Y label shape: tf.Tensor([[0.]], shape=(1, 1), dtype=float64)\n",
      "A label shape: tf.Tensor([[0.]], shape=(1, 1), dtype=float64)\n"
     ]
    },
    {
     "name": "stderr",
     "output_type": "stream",
     "text": [
      "2024-03-17 15:10:14.527052: W tensorflow/stream_executor/platform/default/dso_loader.cc:64] Could not load dynamic library 'libcudart.so.11.0'; dlerror: libcudart.so.11.0: cannot open shared object file: No such file or directory; LD_LIBRARY_PATH: /opt/ohpc/pub/mpi/openmpi3-gnu8/3.1.4/lib:/opt/ohpc/pub/compiler/gcc/8.3.0/lib64\n",
      "2024-03-17 15:10:14.527179: W tensorflow/stream_executor/platform/default/dso_loader.cc:64] Could not load dynamic library 'libcublas.so.11'; dlerror: libcublas.so.11: cannot open shared object file: No such file or directory; LD_LIBRARY_PATH: /opt/ohpc/pub/mpi/openmpi3-gnu8/3.1.4/lib:/opt/ohpc/pub/compiler/gcc/8.3.0/lib64\n",
      "2024-03-17 15:10:14.527268: W tensorflow/stream_executor/platform/default/dso_loader.cc:64] Could not load dynamic library 'libcublasLt.so.11'; dlerror: libcublasLt.so.11: cannot open shared object file: No such file or directory; LD_LIBRARY_PATH: /opt/ohpc/pub/mpi/openmpi3-gnu8/3.1.4/lib:/opt/ohpc/pub/compiler/gcc/8.3.0/lib64\n",
      "2024-03-17 15:10:14.527356: W tensorflow/stream_executor/platform/default/dso_loader.cc:64] Could not load dynamic library 'libcufft.so.10'; dlerror: libcufft.so.10: cannot open shared object file: No such file or directory; LD_LIBRARY_PATH: /opt/ohpc/pub/mpi/openmpi3-gnu8/3.1.4/lib:/opt/ohpc/pub/compiler/gcc/8.3.0/lib64\n",
      "2024-03-17 15:10:14.527474: W tensorflow/stream_executor/platform/default/dso_loader.cc:64] Could not load dynamic library 'libcusolver.so.11'; dlerror: libcusolver.so.11: cannot open shared object file: No such file or directory; LD_LIBRARY_PATH: /opt/ohpc/pub/mpi/openmpi3-gnu8/3.1.4/lib:/opt/ohpc/pub/compiler/gcc/8.3.0/lib64\n",
      "2024-03-17 15:10:14.527559: W tensorflow/stream_executor/platform/default/dso_loader.cc:64] Could not load dynamic library 'libcusparse.so.11'; dlerror: libcusparse.so.11: cannot open shared object file: No such file or directory; LD_LIBRARY_PATH: /opt/ohpc/pub/mpi/openmpi3-gnu8/3.1.4/lib:/opt/ohpc/pub/compiler/gcc/8.3.0/lib64\n",
      "2024-03-17 15:10:14.527612: W tensorflow/core/common_runtime/gpu/gpu_device.cc:1850] Cannot dlopen some GPU libraries. Please make sure the missing libraries mentioned above are installed properly if you would like to use GPU. Follow the guide at https://www.tensorflow.org/install/gpu for how to download and setup the required libraries for your platform.\n",
      "Skipping registering GPU devices...\n",
      "2024-03-17 15:10:14.528218: I tensorflow/core/platform/cpu_feature_guard.cc:151] This TensorFlow binary is optimized with oneAPI Deep Neural Network Library (oneDNN) to use the following CPU instructions in performance-critical operations:  AVX2 FMA\n",
      "To enable them in other operations, rebuild TensorFlow with the appropriate compiler flags.\n"
     ]
    }
   ],
   "source": [
    "# Instantiate with custom label columns\n",
    "train_data = ImageDataset(cfg=cfg, mode='train', y_label_col='Pneumothorax', a_label_col='Sex')\n",
    "train_data = train_data.load_data()\n",
    "\n",
    "# Inspect a few elements to confirm everything is working as expected\n",
    "for img, y_label, a_label in train_data.take(3):\n",
    "    print(\"Image shape:\", img.shape)\n",
    "    print(\"Y label shape:\", y_label)\n",
    "    print(\"A label shape:\", a_label)\n",
    "\n",
    "train_data = train_data.batch(cfg['train_batch_size'])#, drop_remainder=True) \n"
   ]
  },
  {
   "cell_type": "code",
   "execution_count": 4,
   "metadata": {},
   "outputs": [
    {
     "name": "stdout",
     "output_type": "stream",
     "text": [
      "Image shape: (512, 512, 1, 1)\n",
      "Y label shape: tf.Tensor([[0.]], shape=(1, 1), dtype=float64)\n",
      "A label shape: tf.Tensor([[0.]], shape=(1, 1), dtype=float64)\n",
      "Image shape: (512, 512, 1, 1)\n",
      "Y label shape: tf.Tensor([[0.]], shape=(1, 1), dtype=float64)\n",
      "A label shape: tf.Tensor([[0.]], shape=(1, 1), dtype=float64)\n",
      "Image shape: (512, 512, 1, 1)\n",
      "Y label shape: tf.Tensor([[0.]], shape=(1, 1), dtype=float64)\n",
      "A label shape: tf.Tensor([[0.]], shape=(1, 1), dtype=float64)\n"
     ]
    }
   ],
   "source": [
    "# Instantiate with custom label columns\n",
    "valid_data = ImageDataset(cfg=cfg, mode='train', y_label_col='Pneumothorax', a_label_col='Sex')\n",
    "valid_data = valid_data.load_data()\n",
    "\n",
    "# Inspect a few elements to confirm everything is working as expected\n",
    "for img, y_label, a_label in valid_data.take(3):\n",
    "    print(\"Image shape:\", img.shape)\n",
    "    print(\"Y label shape:\", y_label)\n",
    "    print(\"A label shape:\", a_label)\n",
    "\n",
    "valid_data = valid_data.batch(cfg['train_batch_size'])#, drop_remainder=True) \n"
   ]
  },
  {
   "cell_type": "code",
   "execution_count": 8,
   "metadata": {},
   "outputs": [
    {
     "data": {
      "image/png": "[encoded data removed]",
      "text/plain": [
       "<Figure size 640x480 with 1 Axes>"
      ]
     },
     "metadata": {},
     "output_type": "display_data"
    }
   ],
   "source": [
    "# Take one sample from the dataset\n",
    "for images, y_labels, a_labels in dataset.take(1):\n",
    "    # Assuming images are normalized between 0 and 1\n",
    "    plt.imshow(images[:, :, 0], cmap='gray')  # Assuming it's a single grayscale image\n",
    "    plt.title(f\" Pneumothorax: {y_labels[0].numpy()}, Support Devices: {a_labels[0].numpy()}\")\n",
    "    plt.show()\n"
   ]
  },
  {
   "cell_type": "markdown",
   "metadata": {},
   "source": [
    "NOTE: using repeat because I am running out of data"
   ]
  },
  {
   "cell_type": "code",
   "execution_count": 5,
   "metadata": {},
   "outputs": [],
   "source": [
    "#@markdown Model parameters \n",
    "# Example dimensions for a 512x512 black and white image\n",
    "n_pixels = 512\n",
    "n_channels = 1"
   ]
  },
  {
   "cell_type": "markdown",
   "metadata": {},
   "source": [
    "# Models\n",
    "\n",
    "## Baseline model - SingleHead class\n",
    "We build simple MLP models that predict one binary label. This model can be used to assess the performance of the baseline model f(X) -> Y.\n",
    "\n",
    "## Attribute encoding - SingleHead with frozen feature extractor\n",
    "In addition, this model can take as an extra input a frozen feature extractor. It then adds a linear layer to this feature extractor to perform the binary classification. Only the weights of this layer are tuned during training. This architecture is used to assess the level of attribute encoding of another model.\n",
    "\n",
    "## Multi-task - MultiHead with Gradient Reversal\n",
    "The architecture of the multi-task model first comprises a series of layers that represent a \"feature extractor\". On top of the feature extractor, we add two heads: \n",
    "- one head for the label, which is predicted from a single linear layer,\n",
    "- one head for an auxiliary task (here the prediction of the color of the square). This head includes at least a non-linear layer to allow a gradient scaling operation.\n",
    "\n",
    "The weight of the auxiliary loss in the total loss is a hyper-parameter in the method (weight of label loss is fixed to 1.0). A gradient reversal head is added to the auxiliary task. Gradient scaling can then be performed (positive or negative, extra hyper-parameter). Setting both hyper-parameters to 0 corresponds to the baseline single head model.\n",
    "\n",
    "\n",
    "A config (`cfg`) dictionary specifies the parameters of the MLP architecture."
   ]
  },
  {
   "cell_type": "markdown",
   "metadata": {},
   "source": [
    "The provided code defines a set of utility classes for constructing machine learning models with TensorFlow, specifically focusing on models that might use a technique known as \"Gradient Reversal\" for tasks such as domain adaptation or fairness in machine learning, where a model needs to learn tasks while ignoring or reducing reliance on certain attributes.\n",
    "\n",
    "### GradientReversal Class\n",
    "\n",
    "- **Purpose**: Implements a custom TensorFlow layer that reverses the gradient during backpropagation. This is useful in scenarios where you want the model to learn representations that are invariant to certain attributes (e.g., sensitive demographic information) by penalizing the model for being able to predict these attributes.\n",
    "- **Methods**:\n",
    "  - `grad_reverse`: The core method that allows the layer to act as an identity function during the forward pass but reverses the gradient by a factor of `hp_lambda` during the backward pass.\n",
    "  - `__init__`: Initializes the GradientReversal layer with a specified `hp_lambda` value, which determines how much the gradients are scaled during backpropagation.\n",
    "  - `call`: Invokes the `grad_reverse` method as part of the forward pass.\n",
    "  - `set_hp_lambda`, `increment_hp_lambda_by`, `get_hp_lambda`: Methods for adjusting the `hp_lambda` parameter, allowing dynamic modification of how strongly the gradients are reversed during training.\n",
    "\n",
    "### BaselineArch Class\n",
    "\n",
    "- **Purpose**: Serves as a superclass for building machine learning models. It provides methods for processing input data batches, fitting the model to data, making predictions, and evaluating model performance.\n",
    "- **Key Features**:\n",
    "  - Handling of inputs and outputs for the model, including the ability to work with auxiliary tasks.\n",
    "  - A method for fitting the model on a TensorFlow dataset.\n",
    "  - Prediction methods that can work with both individual inputs and batches from a TensorFlow dataset.\n",
    "  - A scoring method to evaluate the model using a specified metric.\n",
    "\n",
    "### MultiHead Class\n",
    "\n",
    "- **Purpose**: Extends BaselineArch to support models with multiple output heads, allowing simultaneous training on a main task and one or more auxiliary tasks.\n",
    "- **Key Features**:\n",
    "  - Building of a multi-output model architecture with separate heads for the main and auxiliary tasks.\n",
    "  - Integration of the GradientReversal layer to apply gradient reversal to the auxiliary task, aiding in learning invariant representations with respect to the auxiliary attribute.\n",
    "  - Model compilation with specific loss functions, loss weights, and metrics for each output head.\n",
    "  - Enhanced prediction and evaluation methods to handle multiple outputs.\n",
    "\n",
    "### SingleHead Class\n",
    "\n",
    "- **Purpose**: A simplified version of BaselineArch for models with a single output head. It can be used for straightforward tasks or for training a model on an auxiliary task using a pre-trained feature extractor.\n",
    "- **Key Features**:\n",
    "  - Option to build a model from scratch or utilize a pre-trained feature extractor for the main task.\n",
    "  - Simplified architecture suitable for single-task learning scenarios.\n",
    "\n",
    "These classes provide a flexible framework for experimenting with machine learning models in TensorFlow, particularly for research on fairness and domain adaptation where control over gradient flow and representation learning is crucial."
   ]
  },
  {
   "cell_type": "markdown",
   "metadata": {},
   "source": [
    "# Baseline task model"
   ]
  },
  {
   "cell_type": "code",
   "execution_count": 6,
   "metadata": {},
   "outputs": [
    {
     "name": "stdout",
     "output_type": "stream",
     "text": [
      "Epoch 1/100\n",
      "21/21 [==============================] - 3s 122ms/step - loss: 0.7131 - auc: 0.4490\n",
      "Epoch 2/100\n",
      "21/21 [==============================] - 2s 112ms/step - loss: 0.6943 - auc: 0.3470\n",
      "Epoch 3/100\n",
      "21/21 [==============================] - 2s 111ms/step - loss: 0.6970 - auc: 0.3517\n",
      "Epoch 4/100\n",
      "21/21 [==============================] - 2s 113ms/step - loss: 0.6598 - auc: 0.4788\n",
      "Epoch 5/100\n",
      "21/21 [==============================] - 2s 114ms/step - loss: 0.6945 - auc: 0.3702\n",
      "Epoch 6/100\n",
      "21/21 [==============================] - 2s 112ms/step - loss: 0.6253 - auc: 0.4158\n",
      "Epoch 7/100\n",
      "21/21 [==============================] - 2s 112ms/step - loss: 0.7068 - auc: 0.3358\n",
      "Epoch 8/100\n",
      "21/21 [==============================] - 2s 112ms/step - loss: 0.6686 - auc: 0.3503\n",
      "Epoch 9/100\n",
      "21/21 [==============================] - 2s 112ms/step - loss: 0.6900 - auc: 0.4103\n",
      "Epoch 10/100\n",
      "21/21 [==============================] - 2s 110ms/step - loss: 0.6693 - auc: 0.4577\n",
      "Epoch 11/100\n",
      "21/21 [==============================] - 2s 112ms/step - loss: 0.6908 - auc: 0.3330\n",
      "Epoch 12/100\n",
      "21/21 [==============================] - 2s 112ms/step - loss: 0.6315 - auc: 0.3345\n",
      "Epoch 13/100\n",
      "21/21 [==============================] - 2s 111ms/step - loss: 0.7023 - auc: 0.4861\n",
      "Epoch 14/100\n",
      "21/21 [==============================] - 2s 112ms/step - loss: 0.6612 - auc: 0.4179\n",
      "Epoch 15/100\n",
      "21/21 [==============================] - 2s 111ms/step - loss: 0.6761 - auc: 0.3974\n",
      "Epoch 16/100\n",
      "21/21 [==============================] - 2s 111ms/step - loss: 0.6949 - auc: 0.4756\n",
      "Epoch 17/100\n",
      "21/21 [==============================] - 2s 111ms/step - loss: 0.6796 - auc: 0.3940\n",
      "Epoch 18/100\n",
      "21/21 [==============================] - 2s 111ms/step - loss: 0.6737 - auc: 0.3929\n",
      "Epoch 19/100\n",
      "21/21 [==============================] - 2s 111ms/step - loss: 0.6458 - auc: 0.5158\n",
      "Epoch 20/100\n",
      "21/21 [==============================] - 2s 113ms/step - loss: 0.6530 - auc: 0.3942\n",
      "Epoch 21/100\n",
      "21/21 [==============================] - 2s 112ms/step - loss: 0.6814 - auc: 0.4361\n",
      "Epoch 22/100\n",
      "21/21 [==============================] - 2s 112ms/step - loss: 0.6327 - auc: 0.4578\n",
      "Epoch 23/100\n",
      "21/21 [==============================] - 2s 111ms/step - loss: 0.6897 - auc: 0.4039\n",
      "Epoch 24/100\n",
      "21/21 [==============================] - 2s 111ms/step - loss: 0.7083 - auc: 0.5319\n",
      "Epoch 25/100\n",
      "21/21 [==============================] - 2s 112ms/step - loss: 0.6405 - auc: 0.4805\n",
      "Epoch 26/100\n",
      "21/21 [==============================] - 3s 120ms/step - loss: 0.7158 - auc: 0.3978\n",
      "Epoch 27/100\n",
      "21/21 [==============================] - 2s 113ms/step - loss: 0.6481 - auc: 0.3850\n",
      "Epoch 28/100\n",
      "21/21 [==============================] - 2s 110ms/step - loss: 0.6348 - auc: 0.4926\n",
      "Epoch 29/100\n",
      "21/21 [==============================] - 2s 112ms/step - loss: 0.6698 - auc: 0.4058\n",
      "Epoch 30/100\n",
      "21/21 [==============================] - 2s 111ms/step - loss: 0.6934 - auc: 0.4048\n",
      "Epoch 31/100\n",
      "21/21 [==============================] - 2s 112ms/step - loss: 0.6760 - auc: 0.2528\n",
      "Epoch 32/100\n",
      "21/21 [==============================] - 2s 110ms/step - loss: 0.6120 - auc: 0.3963\n",
      "Epoch 33/100\n",
      "21/21 [==============================] - 2s 112ms/step - loss: 0.6973 - auc: 0.4554\n",
      "Epoch 34/100\n",
      "21/21 [==============================] - 2s 112ms/step - loss: 0.6645 - auc: 0.4440\n",
      "Epoch 35/100\n",
      "21/21 [==============================] - 2s 111ms/step - loss: 0.6861 - auc: 0.5208\n",
      "Epoch 36/100\n",
      "21/21 [==============================] - 2s 112ms/step - loss: 0.6760 - auc: 0.3953\n",
      "Epoch 37/100\n",
      "21/21 [==============================] - 2s 111ms/step - loss: 0.7025 - auc: 0.4521\n",
      "Epoch 38/100\n",
      "21/21 [==============================] - 2s 113ms/step - loss: 0.6460 - auc: 0.5414\n",
      "Epoch 39/100\n",
      "21/21 [==============================] - 2s 111ms/step - loss: 0.6606 - auc: 0.4263\n",
      "Epoch 40/100\n",
      "21/21 [==============================] - 2s 112ms/step - loss: 0.7134 - auc: 0.5415\n",
      "Epoch 41/100\n",
      "21/21 [==============================] - 2s 112ms/step - loss: 0.6790 - auc: 0.3627\n",
      "Epoch 42/100\n",
      "21/21 [==============================] - 2s 111ms/step - loss: 0.6799 - auc: 0.4609\n",
      "Epoch 43/100\n",
      "21/21 [==============================] - 2s 112ms/step - loss: 0.6887 - auc: 0.4257\n",
      "Epoch 44/100\n",
      "21/21 [==============================] - 2s 111ms/step - loss: 0.6597 - auc: 0.4951\n",
      "Epoch 45/100\n",
      "21/21 [==============================] - 2s 112ms/step - loss: 0.6352 - auc: 0.5413\n",
      "Epoch 46/100\n",
      "21/21 [==============================] - 2s 112ms/step - loss: 0.6898 - auc: 0.4535\n",
      "Epoch 47/100\n",
      "21/21 [==============================] - 2s 112ms/step - loss: 0.6549 - auc: 0.4008\n",
      "Epoch 48/100\n",
      "21/21 [==============================] - 2s 112ms/step - loss: 0.7103 - auc: 0.4353\n",
      "Epoch 49/100\n",
      "21/21 [==============================] - 2s 112ms/step - loss: 0.6941 - auc: 0.3306\n",
      "Epoch 50/100\n",
      "21/21 [==============================] - 2s 112ms/step - loss: 0.6649 - auc: 0.3614\n",
      "Epoch 51/100\n",
      "21/21 [==============================] - 2s 111ms/step - loss: 0.6667 - auc: 0.3968\n",
      "Epoch 52/100\n",
      "21/21 [==============================] - 3s 129ms/step - loss: 0.6436 - auc: 0.5436\n",
      "Epoch 53/100\n",
      "21/21 [==============================] - 2s 111ms/step - loss: 0.7073 - auc: 0.4754\n",
      "Epoch 54/100\n",
      "21/21 [==============================] - 2s 111ms/step - loss: 0.6539 - auc: 0.3403\n",
      "Epoch 55/100\n",
      "21/21 [==============================] - 2s 111ms/step - loss: 0.6852 - auc: 0.4701\n",
      "Epoch 56/100\n",
      "21/21 [==============================] - 2s 111ms/step - loss: 0.6493 - auc: 0.4150\n",
      "Epoch 57/100\n",
      "21/21 [==============================] - 2s 112ms/step - loss: 0.7054 - auc: 0.3990\n",
      "Epoch 58/100\n",
      "21/21 [==============================] - 2s 112ms/step - loss: 0.6562 - auc: 0.4840\n",
      "Epoch 59/100\n",
      "21/21 [==============================] - 2s 112ms/step - loss: 0.6468 - auc: 0.4752\n",
      "Epoch 60/100\n",
      "21/21 [==============================] - 2s 114ms/step - loss: 0.6559 - auc: 0.4117\n",
      "Epoch 61/100\n",
      "21/21 [==============================] - 2s 112ms/step - loss: 0.7254 - auc: 0.4556\n",
      "Epoch 62/100\n",
      "21/21 [==============================] - 2s 111ms/step - loss: 0.6730 - auc: 0.3092\n",
      "Epoch 63/100\n",
      "21/21 [==============================] - 2s 112ms/step - loss: 0.6966 - auc: 0.3619\n",
      "Epoch 64/100\n",
      "21/21 [==============================] - 2s 112ms/step - loss: 0.6469 - auc: 0.4453\n",
      "Epoch 65/100\n",
      "21/21 [==============================] - 2s 113ms/step - loss: 0.6351 - auc: 0.5314\n",
      "Epoch 66/100\n",
      "21/21 [==============================] - 2s 112ms/step - loss: 0.6797 - auc: 0.3982\n",
      "Epoch 67/100\n",
      "21/21 [==============================] - 2s 112ms/step - loss: 0.6286 - auc: 0.4918\n",
      "Epoch 68/100\n",
      "21/21 [==============================] - 2s 110ms/step - loss: 0.6310 - auc: 0.4344\n",
      "Epoch 69/100\n",
      "21/21 [==============================] - 2s 110ms/step - loss: 0.6930 - auc: 0.4221\n",
      "Epoch 70/100\n",
      "21/21 [==============================] - 2s 111ms/step - loss: 0.6878 - auc: 0.3182\n",
      "Epoch 71/100\n",
      "21/21 [==============================] - 2s 111ms/step - loss: 0.6028 - auc: 0.4614\n",
      "Epoch 72/100\n",
      "21/21 [==============================] - 2s 112ms/step - loss: 0.6670 - auc: 0.3554\n",
      "Epoch 73/100\n",
      "21/21 [==============================] - 2s 112ms/step - loss: 0.6970 - auc: 0.4854\n",
      "Epoch 74/100\n",
      "21/21 [==============================] - 2s 112ms/step - loss: 0.6469 - auc: 0.3530\n",
      "Epoch 75/100\n",
      "21/21 [==============================] - 2s 111ms/step - loss: 0.6388 - auc: 0.4028\n",
      "Epoch 76/100\n",
      "21/21 [==============================] - 2s 112ms/step - loss: 0.6640 - auc: 0.4091\n",
      "Epoch 77/100\n",
      "21/21 [==============================] - 3s 129ms/step - loss: 0.7018 - auc: 0.4584\n",
      "Epoch 78/100\n",
      "21/21 [==============================] - 2s 111ms/step - loss: 0.6624 - auc: 0.2754\n",
      "Epoch 79/100\n",
      "21/21 [==============================] - 2s 112ms/step - loss: 0.6589 - auc: 0.4806\n",
      "Epoch 80/100\n",
      "21/21 [==============================] - 2s 111ms/step - loss: 0.6918 - auc: 0.3538\n",
      "Epoch 81/100\n",
      "21/21 [==============================] - 2s 112ms/step - loss: 0.6491 - auc: 0.4597\n",
      "Epoch 82/100\n",
      "21/21 [==============================] - 2s 112ms/step - loss: 0.6877 - auc: 0.4177\n",
      "Epoch 83/100\n",
      "21/21 [==============================] - 2s 111ms/step - loss: 0.6906 - auc: 0.4800\n",
      "Epoch 84/100\n",
      "21/21 [==============================] - 2s 112ms/step - loss: 0.6454 - auc: 0.4059\n",
      "Epoch 85/100\n",
      "21/21 [==============================] - 2s 114ms/step - loss: 0.6556 - auc: 0.4124\n",
      "Epoch 86/100\n",
      "21/21 [==============================] - 2s 111ms/step - loss: 0.6970 - auc: 0.4687\n",
      "Epoch 87/100\n",
      "21/21 [==============================] - 2s 113ms/step - loss: 0.6555 - auc: 0.4704\n",
      "Epoch 88/100\n",
      "21/21 [==============================] - 2s 111ms/step - loss: 0.6458 - auc: 0.5259\n",
      "Epoch 89/100\n",
      "21/21 [==============================] - 2s 111ms/step - loss: 0.6271 - auc: 0.5650\n",
      "Epoch 90/100\n",
      "21/21 [==============================] - 2s 112ms/step - loss: 0.6355 - auc: 0.4207\n",
      "Epoch 91/100\n",
      "21/21 [==============================] - 2s 112ms/step - loss: 0.7128 - auc: 0.3515\n",
      "Epoch 92/100\n",
      "21/21 [==============================] - 2s 112ms/step - loss: 0.6702 - auc: 0.3705\n",
      "Epoch 93/100\n",
      "21/21 [==============================] - 2s 111ms/step - loss: 0.6420 - auc: 0.4791\n",
      "Epoch 94/100\n",
      "21/21 [==============================] - 2s 112ms/step - loss: 0.6150 - auc: 0.5471\n",
      "Epoch 95/100\n",
      "21/21 [==============================] - 2s 112ms/step - loss: 0.6162 - auc: 0.4112\n",
      "Epoch 96/100\n",
      "21/21 [==============================] - 2s 112ms/step - loss: 0.6604 - auc: 0.3944\n",
      "Epoch 97/100\n",
      "21/21 [==============================] - 2s 112ms/step - loss: 0.6930 - auc: 0.4154\n",
      "Epoch 98/100\n",
      "21/21 [==============================] - 2s 112ms/step - loss: 0.7010 - auc: 0.5368\n",
      "Epoch 99/100\n",
      "21/21 [==============================] - 2s 112ms/step - loss: 0.7031 - auc: 0.3959\n",
      "Epoch 100/100\n",
      "21/21 [==============================] - 2s 112ms/step - loss: 0.6629 - auc: 0.5333\n",
      "1/1 [==============================] - 0s 152ms/step\n",
      "1/1 [==============================] - 0s 41ms/step\n",
      "1/1 [==============================] - 0s 45ms/step\n",
      "1/1 [==============================] - 0s 44ms/step\n",
      "1/1 [==============================] - 0s 41ms/step\n",
      "1/1 [==============================] - 0s 41ms/step\n",
      "1/1 [==============================] - 0s 41ms/step\n",
      "1/1 [==============================] - 0s 41ms/step\n",
      "1/1 [==============================] - 0s 41ms/step\n",
      "1/1 [==============================] - 0s 47ms/step\n",
      "1/1 [==============================] - 0s 51ms/step\n",
      "1/1 [==============================] - 0s 43ms/step\n",
      "1/1 [==============================] - 0s 41ms/step\n",
      "1/1 [==============================] - 0s 43ms/step\n",
      "1/1 [==============================] - 0s 41ms/step\n",
      "1/1 [==============================] - 0s 40ms/step\n",
      "1/1 [==============================] - 0s 41ms/step\n",
      "1/1 [==============================] - 0s 41ms/step\n",
      "1/1 [==============================] - 0s 46ms/step\n",
      "1/1 [==============================] - 0s 46ms/step\n",
      "1/1 [==============================] - 0s 54ms/step\n",
      "Baseline model: 0.50 +- 0.00\n"
     ]
    }
   ],
   "source": [
    "metric = tf.keras.metrics.AUC\n",
    "\n",
    "\n",
    "baseline = []\n",
    "seed= 0 \n",
    "tf.random.set_seed(seed)\n",
    "np.random.seed(seed)\n",
    "enc = SingleHead(cfg, main=\"y\", dtype=tf.float32, feat_extract=None)\n",
    "kwargs = {'epochs': 100, 'steps_per_epoch':21, 'verbose': True}\n",
    "enc.fit(train_data, **kwargs)\n",
    "kwargs = {'verbose': True}\n",
    "num_batches = 21\n",
    "sc = enc.score(valid_data, num_batches, metric, **kwargs)\n",
    "baseline.append(sc)\n",
    "\n",
    "print(\"Baseline model: %1.2f +- %.2f\" % (np.mean(baseline),np.std(baseline)))"
   ]
  },
  {
   "cell_type": "markdown",
   "metadata": {},
   "source": [
    "# Bounds on attribute encoding (i.e. LEB and UEB in paper)"
   ]
  },
  {
   "cell_type": "code",
   "execution_count": null,
   "metadata": {},
   "outputs": [
    {
     "name": "stdout",
     "output_type": "stream",
     "text": [
      "Upper bound: 0.77 +- 0.00\n"
     ]
    }
   ],
   "source": [
    "#@title Upper bound\n",
    "metric = tf.keras.metrics.AUC\n",
    "\n",
    "upper_bound = []\n",
    "seed=0\n",
    "tf.random.set_seed(seed)\n",
    "np.random.seed(seed)\n",
    "enc = SingleHead(cfg, main=\"a\", dtype=tf.float32, feat_extract=None)\n",
    "kwargs = {'epochs': 10, 'steps_per_epoch':21, 'verbose': False}\n",
    "enc.fit(dataset, **kwargs)\n",
    "kwargs = {'verbose': False}\n",
    "num_batches = 10\n",
    "sc = enc.score(dataset, num_batches, metric, **kwargs)\n",
    "upper_bound.append(sc)\n",
    "\n",
    "print(\"Upper bound: %1.2f +- %.2f\" % (np.mean(upper_bound),np.std(upper_bound)))"
   ]
  },
  {
   "cell_type": "code",
   "execution_count": null,
   "metadata": {},
   "outputs": [
    {
     "name": "stdout",
     "output_type": "stream",
     "text": [
      "Lower bound: 0.54 +- 0.00\n"
     ]
    }
   ],
   "source": [
    "# Assuming num_batches is defined and matches the total batches available in your dataset\n",
    "# Assuming your dataset is structured as (images, pneumothorax_labels, support_devices_labels)\n",
    "\n",
    "num_batches = 21  # Adjust based on your specific batch count if necessary\n",
    "batch_size = 32  # Your batch size\n",
    "n_train = 672  # Total number of images in your dataset\n",
    "a_dim = 1  # Assuming binary classification for either pneumothorax or support devices\n",
    "\n",
    "lower_bound = []\n",
    "#for seed in [0, 1, 2, 3, 4]:\n",
    "seed = 0\n",
    "tf.random.set_seed(seed)\n",
    "np.random.seed(seed)\n",
    "a_true_all = np.array([]).reshape((0, a_dim))\n",
    "a_pred_all = np.array([]).reshape((0, a_dim))\n",
    "\n",
    "for batch in dataset.take(num_batches):\n",
    "    # Unpack the batch according to your dataset structure\n",
    "    images, pneumothorax_labels, support_devices_labels = batch\n",
    "    \n",
    "    # Dynamically determine the actual size of the current batch for pneumothorax_labels\n",
    "    actual_batch_size = pneumothorax_labels.shape[0]\n",
    "    \n",
    "    # Extract the labels and ensure it's reshaped to 2D if necessary\n",
    "    a_true = pneumothorax_labels.numpy()\n",
    "    a_true = a_true.reshape(-1, a_true.shape[-2])\n",
    "    \n",
    "    # Simulate predictions: Adjust to use actual_batch_size\n",
    "    a_pred = np.random.choice([0, 1], size=(actual_batch_size, a_dim))\n",
    "    \n",
    "    # Append the true labels and predictions to their respective accumulators\n",
    "    a_true_all = np.append(a_true_all, a_true, axis=0)\n",
    "    a_pred_all = np.append(a_pred_all, a_pred, axis=0)\n",
    "# Calculate and store the AUC score for this iteration\n",
    "\n",
    "sc = tf.keras.metrics.AUC()(a_true_all, a_pred_all).numpy()\n",
    "lower_bound.append(sc)\n",
    "\n",
    "# Print the lower bound score\n",
    "print(\"Lower bound: %1.2f +- %.2f\" % (np.mean(lower_bound), np.std(lower_bound)))\n"
   ]
  },
  {
   "cell_type": "code",
   "execution_count": 13,
   "metadata": {},
   "outputs": [
    {
     "name": "stdout",
     "output_type": "stream",
     "text": [
      "Images shape: (32, 512, 512, 1)\n",
      "Pneumothorax labels shape: (32, 1, 1)\n",
      "Support devices labels shape: (32, 1, 1)\n"
     ]
    }
   ],
   "source": [
    "# Let's look at the shapes of each component in a single element (or batch) of the dataset\n",
    "for images, pneumothorax_labels, support_devices_labels in dataset.take(1):\n",
    "    print(\"Images shape:\", images.shape)\n",
    "    print(\"Pneumothorax labels shape:\", pneumothorax_labels.shape)\n",
    "    print(\"Support devices labels shape:\", support_devices_labels.shape)\n",
    "    break  # Only take the first element for inspection\n"
   ]
  },
  {
   "cell_type": "markdown",
   "metadata": {},
   "source": [
    "# Example of Multi-Task model"
   ]
  },
  {
   "cell_type": "code",
   "execution_count": 14,
   "metadata": {},
   "outputs": [],
   "source": [
    "#@title Initialize from config\n",
    "cfg.model.attr_grad_updates = float(0.1) # if both are set to 0, this is a baseline model (i.e. the same as with no extra head)\n",
    "cfg.attr_loss_weight = float(0.75)\n",
    "clf = MultiHead(cfg, main=\"y\", aux=\"a\", dtype=tf.float32, pos=None)"
   ]
  },
  {
   "cell_type": "code",
   "execution_count": 15,
   "metadata": {},
   "outputs": [
    {
     "name": "stdout",
     "output_type": "stream",
     "text": [
      "Model: \"model_3\"\n",
      "__________________________________________________________________________________________________\n",
      " Layer (type)                   Output Shape         Param #     Connected to                     \n",
      "==================================================================================================\n",
      " input_3 (InputLayer)           [(None, 512, 512, 1  0           []                               \n",
      "                                )]                                                                \n",
      "                                                                                                  \n",
      " flatten_2 (Flatten)            (None, 262144)       0           ['input_3[0][0]']                \n",
      "                                                                                                  \n",
      " dense_6 (Dense)                (None, 10)           2621450     ['flatten_2[0][0]']              \n",
      "                                                                                                  \n",
      " dense_7 (Dense)                (None, 10)           110         ['dense_6[0][0]']                \n",
      "                                                                                                  \n",
      " dense_8 (Dense)                (None, 10)           110         ['dense_7[0][0]']                \n",
      "                                                                                                  \n",
      " gradient_reversal (GradientRev  (None, 10)          1           ['dense_8[0][0]']                \n",
      " ersal)                                                                                           \n",
      "                                                                                                  \n",
      " attr_branch (Dense)            (None, 2)            22          ['gradient_reversal[0][0]']      \n",
      "                                                                                                  \n",
      " output (Dense)                 (None, 1)            11          ['dense_8[0][0]']                \n",
      "                                                                                                  \n",
      " attribute (Dense)              (None, 1)            3           ['attr_branch[0][0]']            \n",
      "                                                                                                  \n",
      "==================================================================================================\n",
      "Total params: 2,621,707\n",
      "Trainable params: 2,621,707\n",
      "Non-trainable params: 0\n",
      "__________________________________________________________________________________________________\n"
     ]
    }
   ],
   "source": [
    "#@markdown Explore the architecture\n",
    "clf.model.summary()"
   ]
  },
  {
   "cell_type": "code",
   "execution_count": 16,
   "metadata": {},
   "outputs": [
    {
     "name": "stdout",
     "output_type": "stream",
     "text": [
      "Epoch 1/10\n",
      "WARNING:tensorflow:Gradients do not exist for variables ['hp_lambda:0'] when minimizing the loss. If you're using `model.compile()`, did you forget to provide a `loss`argument?\n",
      "WARNING:tensorflow:Gradients do not exist for variables ['hp_lambda:0'] when minimizing the loss. If you're using `model.compile()`, did you forget to provide a `loss`argument?\n",
      "2/2 [==============================] - 3s 943ms/step - loss: 7.6914 - output_loss: 6.3333 - attribute_loss: 1.8108 - output_auc_5: 0.0000e+00 - attribute_auc_6: 0.4036\n",
      "Epoch 2/10\n",
      "2/2 [==============================] - 2s 896ms/step - loss: 4.2505 - output_loss: 3.3973 - attribute_loss: 1.1376 - output_auc_5: 0.0000e+00 - attribute_auc_6: 0.5308\n",
      "Epoch 3/10\n",
      "2/2 [==============================] - 2s 780ms/step - loss: 0.8355 - output_loss: 0.3156 - attribute_loss: 0.6931 - output_auc_5: 0.5000 - attribute_auc_6: 0.5000\n",
      "Epoch 4/10\n",
      "2/2 [==============================] - 3s 2s/step - loss: 0.6297 - output_loss: 0.1098 - attribute_loss: 0.6932 - output_auc_5: 0.5000 - attribute_auc_6: 0.5000    \n",
      "Epoch 5/10\n",
      "2/2 [==============================] - 2s 740ms/step - loss: 0.6190 - output_loss: 0.0995 - attribute_loss: 0.6927 - output_auc_5: 0.4127 - attribute_auc_6: 0.5000\n",
      "Epoch 6/10\n",
      "2/2 [==============================] - 7s 3s/step - loss: 0.8124 - output_loss: 0.2934 - attribute_loss: 0.6920 - output_auc_5: 0.2541 - attribute_auc_6: 0.5000\n",
      "Epoch 7/10\n",
      "2/2 [==============================] - 3s 628ms/step - loss: 0.5217 - output_loss: 0.0024 - attribute_loss: 0.6925 - output_auc_5: 0.0000e+00 - attribute_auc_6: 0.5000\n",
      "Epoch 8/10\n",
      "2/2 [==============================] - 11s 6s/step - loss: 0.8069 - output_loss: 0.2707 - attribute_loss: 0.7150 - output_auc_5: 0.5000 - attribute_auc_6: 0.5864   \n",
      "Epoch 9/10\n",
      "2/2 [==============================] - 12s 2s/step - loss: 0.7492 - output_loss: 0.2103 - attribute_loss: 0.7186 - output_auc_5: 0.5000 - attribute_auc_6: 0.4600\n",
      "Epoch 10/10\n",
      "2/2 [==============================] - 5s 4s/step - loss: 0.5956 - output_loss: 0.0758 - attribute_loss: 0.6932 - output_auc_5: 0.8889 - attribute_auc_6: 0.5000\n"
     ]
    }
   ],
   "source": [
    "#@title Train the model\n",
    "kwargs = {'epochs': 10, 'steps_per_epoch':2, 'verbose': True}\n",
    "clf.fit(dataset, **kwargs)\n",
    "clf.trainable=False"
   ]
  },
  {
   "cell_type": "code",
   "execution_count": 17,
   "metadata": {},
   "outputs": [],
   "source": [
    "#@title Define the decision threshold by maximizing the F1-score on validation data\n",
    "\n",
    "from sklearn.metrics import precision_recall_curve\n",
    "def f1_curve(truth, prediction_scores, e=1e-6):\n",
    "  precision, recall, thresholds = precision_recall_curve(truth, prediction_scores)\n",
    "  f1 = 2*recall*precision/(recall+precision+e)\n",
    "  return thresholds, f1[:-1]\n",
    "\n",
    "def threshold_at_max_f1_score(truth, prediction_scores):\n",
    "  thresholds, f1 = f1_curve(truth, prediction_scores)\n",
    "  peak_idx = np.argmax(f1)\n",
    "  return thresholds[peak_idx]"
   ]
  },
  {
   "cell_type": "code",
   "execution_count": 19,
   "metadata": {},
   "outputs": [
    {
     "name": "stdout",
     "output_type": "stream",
     "text": [
      "1/1 [==============================] - 0s 49ms/step\n",
      "1/1 [==============================] - 0s 42ms/step\n",
      "[0.0, 0.5]\n"
     ]
    }
   ],
   "source": [
    "kwargs = {'verbose': True}\n",
    "num_batches = 2\n",
    "metric = tf.keras.metrics.AUC\n",
    "scores_val = clf.score(dataset, num_batches, metric, **kwargs)\n",
    "print(scores_val)"
   ]
  },
  {
   "cell_type": "code",
   "execution_count": 20,
   "metadata": {},
   "outputs": [
    {
     "name": "stderr",
     "output_type": "stream",
     "text": [
      "/opt/itu/easybuild/software/Anaconda3/2023.03-1/lib/python3.10/site-packages/sklearn/metrics/_ranking.py:891: UserWarning: No positive class found in y_true, recall is set to one for all thresholds.\n",
      "  warnings.warn(\n"
     ]
    },
    {
     "data": {
      "text/plain": [
       "0.0042333900928497314"
      ]
     },
     "execution_count": 20,
     "metadata": {},
     "output_type": "execute_result"
    }
   ],
   "source": [
    "kwargs = {'verbose': False}\n",
    "yt, yp = clf.predict_mult(dataset, num_batches, **kwargs)\n",
    "threshold = threshold_at_max_f1_score(yt[0],yp[0])\n",
    "threshold"
   ]
  },
  {
   "cell_type": "code",
   "execution_count": 21,
   "metadata": {},
   "outputs": [],
   "source": [
    "#@title Fairness metrics\n",
    "\n",
    "# As per the work of Alabdulmohsin et al., 2021\n",
    "\n",
    "def fairness_metrics(y_pred, y_true, sens_attr):\n",
    "  eps = 1e-5\n",
    "  groups = np.unique(sens_attr).tolist()\n",
    "\n",
    "  max_error = 0\n",
    "  min_error = 1\n",
    "\n",
    "  max_mean_y = 0\n",
    "  min_mean_y = 1\n",
    "\n",
    "  max_mean_y0 = 0  # conditioned on y = 0\n",
    "  min_mean_y0 = 1\n",
    "\n",
    "  max_mean_y1 = 0\n",
    "  min_mean_y1 = 1\n",
    "\n",
    "  for group in groups:\n",
    "    yt = y_true[sens_attr == group].astype('int32')\n",
    "    ypt = (y_pred[sens_attr == group]).astype('int32')\n",
    "    err = -np.mean(yt * np.log(ypt+eps) + (1-yt)*np.log(1-ypt+eps))\n",
    "    mean_y = np.mean(y_pred[sens_attr == group])\n",
    "    neg = np.logical_and(sens_attr == group, y_true == 0)\n",
    "    pos = np.logical_and(sens_attr == group, y_true == 1)\n",
    "    mean_y0 = np.mean(y_pred[neg])\n",
    "    mean_y1 = np.mean(y_pred[pos])\n",
    "\n",
    "    if err > max_error:\n",
    "      max_error = err\n",
    "    if err < min_error:\n",
    "      min_error = err\n",
    "\n",
    "    if mean_y > max_mean_y:\n",
    "      max_mean_y = mean_y\n",
    "    if mean_y < min_mean_y:\n",
    "      min_mean_y = mean_y\n",
    "\n",
    "    if mean_y0 > max_mean_y0:\n",
    "      max_mean_y0 = mean_y0\n",
    "    if mean_y0 < min_mean_y0:\n",
    "      min_mean_y0 = mean_y0\n",
    "\n",
    "    if mean_y1 > max_mean_y1:\n",
    "      max_mean_y1 = mean_y1\n",
    "    if mean_y1 < min_mean_y1:\n",
    "      min_mean_y1 = mean_y1\n",
    "  \n",
    "  eo = 0.5*(max_mean_y0 - min_mean_y0 + max_mean_y1 - min_mean_y1)\n",
    "  dp = max_mean_y - min_mean_y\n",
    "  err_parity = max_error - min_error\n",
    "\n",
    "  return eo, dp, err_parity"
   ]
  },
  {
   "cell_type": "markdown",
   "metadata": {},
   "source": [
    "The given Python function `fairness_metrics` computes three key fairness metrics based on predictions (`y_pred`), true labels (`y_true`), and a sensitive attribute (`sens_attr`). Here’s a brief explanation of what each of these metrics represents and how they're computed within the function:\n",
    "\n",
    "### 1. **Equalized Odds (EO)**\n",
    "Equalized Odds is computed as half the sum of the absolute differences between the maximum and minimum predicted probabilities for negative (`y=0`) and positive (`y=1`) outcomes across groups defined by the sensitive attribute. It measures whether the model's predictions are equally fair for all groups, both for those who do and do not actually have the condition (e.g., pneumothorax). A lower EO value indicates better fairness in terms of equal false positive and true positive rates across groups.\n",
    "\n",
    "### 2. **Demographic Parity (DP)**\n",
    "Demographic Parity is calculated as the difference between the maximum and minimum mean predicted probabilities across different groups. This metric assesses whether the model predicts the condition at an equal rate across all groups, regardless of the actual prevalence within those groups. A lower value of DP suggests that the model's predictions are not biased towards any particular group based on the sensitive attribute.\n",
    "\n",
    "### 3. **Error Parity (Err Parity)**\n",
    "Error Parity measures the difference between the maximum and minimum cross-entropy errors across groups. Cross-entropy error here is used to quantify how well the predicted probabilities align with the true labels, with a particular focus on how this alignment varies across groups defined by the sensitive attribute. A smaller difference indicates that the model's accuracy or error rate is consistent across different groups, contributing to overall fairness.\n",
    "\n",
    "### Implementation Details\n",
    "- The function iterates through each unique value of the sensitive attribute to calculate the metrics separately for each group.\n",
    "- It uses cross-entropy error to evaluate model performance for each group, adjusting for potential issues with predicted probabilities being exactly 0 or 1 through a small epsilon value (`eps = 1e-5`).\n",
    "- `max_error` and `min_error` track the highest and lowest errors across groups, respectively, used to calculate Error Parity.\n",
    "- `max_mean_y`, `min_mean_y`, `max_mean_y0`, `min_mean_y0`, `max_mean_y1`, and `min_mean_y1` track the highest and lowest mean predicted probabilities across groups, for all cases, cases with true negative, and cases with true positive labels, respectively. These are used to calculate Demographic Parity and Equalized Odds.\n",
    "\n",
    "### Usage\n",
    "This function can be particularly useful for evaluating the fairness of medical diagnostic models (like those detecting pneumothorax from X-rays) with respect to a sensitive attribute such as patient age, gender, race, or the presence of interventions like chest drains. The metrics provide insights into whether the model's performance is equitable across groups, a crucial consideration for clinical applications to avoid exacerbating existing health disparities."
   ]
  },
  {
   "cell_type": "code",
   "execution_count": 22,
   "metadata": {},
   "outputs": [
    {
     "data": {
      "text/plain": [
       "[0.75968254, 0.5]"
      ]
     },
     "execution_count": 22,
     "metadata": {},
     "output_type": "execute_result"
    }
   ],
   "source": [
    "#@title Evaluate the model on test data\n",
    "kwargs = {'verbose': False}\n",
    "num_batches = 20\n",
    "metric = tf.keras.metrics.AUC\n",
    "scores = clf.score(dataset, num_batches, metric, **kwargs)\n",
    "scores"
   ]
  },
  {
   "cell_type": "code",
   "execution_count": 23,
   "metadata": {},
   "outputs": [],
   "source": [
    "yt, yp = clf.predict_mult(dataset, num_batches, **kwargs)\n",
    "eo, dp, ep = fairness_metrics(yp[0]>=threshold,\n",
    "                              yt[0],yt[1].astype('int32'))"
   ]
  },
  {
   "cell_type": "code",
   "execution_count": 41,
   "metadata": {},
   "outputs": [
    {
     "data": {
      "text/plain": [
       "[0.5, 0.5]"
      ]
     },
     "execution_count": 41,
     "metadata": {},
     "output_type": "execute_result"
    }
   ],
   "source": [
    "#@title Evaluate model on counterfactual test data\n",
    "kwargs = {'verbose': False}\n",
    "num_batches = 20\n",
    "metric = tf.keras.metrics.AUC\n",
    "\n",
    "scores_flipped = clf.score(dataset, num_batches,metric, **kwargs)\n",
    "scores_flipped"
   ]
  },
  {
   "cell_type": "code",
   "execution_count": 43,
   "metadata": {},
   "outputs": [
    {
     "name": "stdout",
     "output_type": "stream",
     "text": [
      "WARNING:tensorflow:Your input ran out of data; interrupting training. Make sure that your dataset or generator can generate at least `steps_per_epoch * epochs` batches (in this case, 600 batches). You may need to use the repeat() function when building your dataset.\n"
     ]
    },
    {
     "data": {
      "text/plain": [
       "0.5"
      ]
     },
     "execution_count": 43,
     "metadata": {},
     "output_type": "execute_result"
    }
   ],
   "source": [
    "#@title Evaluate attribute encoding based on a frozen feature extractor from the multi-task model\n",
    "enc = SingleHead(cfg, main=\"a\", dtype=tf.float32, feat_extract=clf.feat_extract)\n",
    "kwargs = {'epochs': 30, 'steps_per_epoch':20, 'verbose': True}\n",
    "enc.fit(dataset, **kwargs)\n",
    "kwargs = {'verbose': True}\n",
    "num_batches = 20\n",
    "metric = tf.keras.metrics.AUC\n",
    "sc = enc.score(dataset, num_batches, metric, **kwargs)\n",
    "sc"
   ]
  },
  {
   "cell_type": "markdown",
   "metadata": {},
   "source": [
    "# Piecing the elements together: ShorT"
   ]
  },
  {
   "cell_type": "code",
   "execution_count": 24,
   "metadata": {},
   "outputs": [],
   "source": [
    "#@title ShorT method\n",
    "def shortcut_testing(cfg, train_data, test_data, counterfact_data, val_data,\n",
    "                     range_grads, seeds = [0,1,2,3,4], num_epochs_train = 30,\n",
    "                     num_batch_test = 5):\n",
    "  \"\"\"Shortcut testing.\n",
    "\n",
    "  Requires:\n",
    "  - cfg: a config dictionary of model specifications\n",
    "  - train_data: tf dataset of train data respecting the positions for x,y,a\n",
    "  - test_data: tf dataset of test data\n",
    "  - counterfact_data: tf dataset of counterfactual test images\n",
    "  - val_data: validation data to compute decision threshold\n",
    "  - range_grads: np array of gradient scalings\n",
    "  - seeds: list of seed numbers to fix, per gradient scaling\n",
    "  - num_epoch_train: int, number of epochs for training\n",
    "  - num_batch_test: number of batches to test the model on\n",
    "\n",
    "  Outputs:\n",
    "  scores_y: np array of size (# gradient scalings, # seeds) of test performance on Y\n",
    "  encoding_a: np array of model's attribute encoding\n",
    "  equ_odds: np array of equalized odds on test data\n",
    "  dem_par: similar, demographic parity\n",
    "  err_par: error parity\n",
    "  count_fair: counterfactual fairness (computed locally then averaged)\n",
    "  scores_c: global performance on Y on counterfactual data\n",
    "  models: tf.Keras.model instances\n",
    "  \"\"\" \n",
    "\n",
    "\n",
    "  scores_y = np.zeros((len(range_grads), len(seeds)))\n",
    "  scores_c = np.zeros((len(range_grads), len(seeds)))\n",
    "  encoding_a = np.zeros((len(range_grads), len(seeds)))\n",
    "  equ_odds = np.zeros((len(range_grads), len(seeds)))\n",
    "  dem_par = np.zeros((len(range_grads), len(seeds)))\n",
    "  err_par = np.zeros((len(range_grads), len(seeds)))\n",
    "  count_fair = np.zeros((len(range_grads), len(seeds)))\n",
    "  models = []\n",
    "  metric = tf.keras.metrics.AUC\n",
    "  loss_weight = cfg.attr_loss_weight\n",
    "  for g, grad_scaling in enumerate(range_grads):\n",
    "    cfg.model.attr_grad_updates = float(grad_scaling)\n",
    "\n",
    "    if grad_scaling == 0:  ## baseline model with no other head\n",
    "      cfg.attr_loss_weight = float(0.0)\n",
    "    else:\n",
    "      cfg.attr_loss_weight = float(loss_weight)\n",
    "    \n",
    "    for s, seed in enumerate(seeds):\n",
    "      tf.random.set_seed(seed)\n",
    "      np.random.seed(seed)\n",
    "      # instantiate\n",
    "      clf = MultiHead(cfg, main=\"y\", aux=\"a\", dtype=tf.float32, pos=None)\n",
    "      # train the multi-head model\n",
    "      kwargs = {'epochs': num_epochs_train, 'steps_per_epoch':20, 'verbose': False}\n",
    "      clf.fit(train_data, **kwargs)\n",
    "      clf.trainable = False\n",
    "\n",
    "      # estimate attribute encoding by freezing the weights of the feature extractor\n",
    "      enc = SingleHead(cfg, main=\"a\", dtype=tf.float32, feat_extract=clf.feat_extract)\n",
    "      kwargs = {'epochs': num_epochs_train, 'steps_per_epoch':20, 'verbose': False}\n",
    "      enc.fit(train_data, **kwargs)\n",
    "      kwargs = {'verbose': False}\n",
    "      encoding_a[g,s] = enc.score(test_data, num_batch_test,\n",
    "                                  metric, **kwargs)\n",
    "\n",
    "      # Model performance on test\n",
    "      scores = clf.score(test_data, num_batch_test, metric, **kwargs)\n",
    "      scores_y[g,s] = scores[0]\n",
    "\n",
    "      # from validation data, obtain threshold for decision making\n",
    "      out_true, out_pred = clf.predict_mult(val_data,\n",
    "                                            num_batches=num_batch_test,\n",
    "                                            **kwargs)\n",
    "      threshold = threshold_at_max_f1_score(out_true[0],out_pred[0])\n",
    "\n",
    "      # Model statistical fairness metric\n",
    "      out_true, out_pred = clf.predict_mult(test_data, num_batches=num_batch_test, **kwargs)\n",
    "      eo, dp, ep = fairness_metrics(out_pred[0]>=threshold,\n",
    "                                    out_true[0],out_true[1].astype('int32'))\n",
    "      equ_odds[g,s] = eo\n",
    "      dem_par[g,s] = dp\n",
    "      err_par[g,s] = ep\n",
    "      # global shortcutting\n",
    "      scores = clf.score(counterfact_data, num_batch_test, metric, **kwargs)\n",
    "      scores_c[g,s] = scores[0]\n",
    "      # counterfactual fairness metric\n",
    "      cf_true, cf_pred = clf.predict_mult(counterfact_data, num_batches=num_batch_test,\n",
    "                                          **kwargs)\n",
    "      count_fair[g,s] = np.mean(np.abs(\n",
    "          (out_pred[0]>=threshold).astype(float) - (cf_pred[0]>=threshold).astype(float)))\n",
    "      models.append(clf)\n",
    "      del clf\n",
    "  return scores_y, encoding_a, equ_odds, dem_par, err_par, count_fair, scores_c, models"
   ]
  },
  {
   "cell_type": "markdown",
   "metadata": {},
   "source": [
    "The `shortcut_testing` function implements the ShorT method, designed to evaluate machine learning models on multiple fronts, particularly focusing on their performance, fairness, and susceptibility to shortcut learning. Here's a breakdown of its key components and workflow:\n",
    "\n",
    "### Inputs\n",
    "- `cfg`: Configuration dictionary specifying model architecture, training parameters, and other settings.\n",
    "- `train_data`, `test_data`, `counterfact_data`, `val_data`: TensorFlow datasets for training, testing, evaluating on counterfactual data, and validation, respectively. These datasets must include features (`x`), targets (`y`), and sensitive attributes (`a`).\n",
    "- `range_grads`: An array of gradient scaling values to test. This allows the examination of how varying degrees of gradient reversal (applied to the sensitive attribute predictions) impact the model's learning and fairness metrics.\n",
    "- `seeds`: A list of seed values for reproducibility.\n",
    "- `num_epochs_train`: Number of epochs for training each model.\n",
    "- `num_batch_test`: Number of batches to use for testing and evaluating fairness metrics.\n",
    "\n",
    "### Workflow\n",
    "1. **Initialization**: Arrays to store scores, fairness metrics, and models for each combination of gradient scaling and seed are initialized.\n",
    "2. **Training Loop**: For each gradient scaling value:\n",
    "   - Adjust the gradient scaling in the model configuration.\n",
    "   - For each seed value:\n",
    "     - Set the random seed for reproducibility.\n",
    "     - Instantiate and train a multi-head model using the `MultiHead` class, with one head for the main task and another for the sensitive attribute, applying the specified gradient scaling.\n",
    "     - Freeze the trained model and use it as a feature extractor to train a `SingleHead` model for estimating the encoding of the sensitive attribute.\n",
    "     - Evaluate the multi-head model on the test dataset to get performance scores and on the validation dataset to determine the decision threshold for maximum F1 score.\n",
    "     - Calculate fairness metrics (equalized odds, demographic parity, error parity) based on the predictions made using the decision threshold.\n",
    "     - Evaluate the model's performance on counterfactual data and compute a counterfactual fairness metric.\n",
    "     - Store the trained model for further analysis.\n",
    "\n",
    "### Outputs\n",
    "- `scores_y`: Performance of the models on the main task for each gradient scaling and seed.\n",
    "- `encoding_a`: Estimated encoding of the sensitive attribute by the models.\n",
    "- `equ_odds`, `dem_par`, `err_par`: Fairness metrics for each model.\n",
    "- `count_fair`: Counterfactual fairness metric for each model.\n",
    "- `scores_c`: Performance of the models on counterfactual data.\n",
    "- `models`: List of trained model instances for further inspection or analysis.\n",
    "\n",
    "This comprehensive approach allows for the examination of how different degrees of attention to a sensitive attribute (modulated through gradient scaling) impact a model's fairness and susceptibility to shortcut learning, offering insights into optimizing models for fairness while maintaining or improving performance."
   ]
  },
  {
   "cell_type": "code",
   "execution_count": 40,
   "metadata": {},
   "outputs": [
    {
     "name": "stdout",
     "output_type": "stream",
     "text": [
      "WARNING:tensorflow:Gradients do not exist for variables ['hp_lambda:0'] when minimizing the loss. If you're using `model.compile()`, did you forget to provide a `loss`argument?\n",
      "WARNING:tensorflow:Gradients do not exist for variables ['hp_lambda:0'] when minimizing the loss. If you're using `model.compile()`, did you forget to provide a `loss`argument?\n",
      "WARNING:tensorflow:Your input ran out of data; interrupting training. Make sure that your dataset or generator can generate at least `steps_per_epoch * epochs` batches (in this case, 200 batches). You may need to use the repeat() function when building your dataset.\n",
      "WARNING:tensorflow:Your input ran out of data; interrupting training. Make sure that your dataset or generator can generate at least `steps_per_epoch * epochs` batches (in this case, 200 batches). You may need to use the repeat() function when building your dataset.\n",
      "WARNING:tensorflow:Gradients do not exist for variables ['hp_lambda:0'] when minimizing the loss. If you're using `model.compile()`, did you forget to provide a `loss`argument?\n",
      "WARNING:tensorflow:Gradients do not exist for variables ['hp_lambda:0'] when minimizing the loss. If you're using `model.compile()`, did you forget to provide a `loss`argument?\n",
      "WARNING:tensorflow:Your input ran out of data; interrupting training. Make sure that your dataset or generator can generate at least `steps_per_epoch * epochs` batches (in this case, 200 batches). You may need to use the repeat() function when building your dataset.\n",
      "WARNING:tensorflow:Your input ran out of data; interrupting training. Make sure that your dataset or generator can generate at least `steps_per_epoch * epochs` batches (in this case, 200 batches). You may need to use the repeat() function when building your dataset.\n",
      "WARNING:tensorflow:Gradients do not exist for variables ['hp_lambda:0'] when minimizing the loss. If you're using `model.compile()`, did you forget to provide a `loss`argument?\n",
      "WARNING:tensorflow:Gradients do not exist for variables ['hp_lambda:0'] when minimizing the loss. If you're using `model.compile()`, did you forget to provide a `loss`argument?\n",
      "WARNING:tensorflow:Your input ran out of data; interrupting training. Make sure that your dataset or generator can generate at least `steps_per_epoch * epochs` batches (in this case, 200 batches). You may need to use the repeat() function when building your dataset.\n",
      "WARNING:tensorflow:Your input ran out of data; interrupting training. Make sure that your dataset or generator can generate at least `steps_per_epoch * epochs` batches (in this case, 200 batches). You may need to use the repeat() function when building your dataset.\n",
      "WARNING:tensorflow:Gradients do not exist for variables ['hp_lambda:0'] when minimizing the loss. If you're using `model.compile()`, did you forget to provide a `loss`argument?\n",
      "WARNING:tensorflow:Gradients do not exist for variables ['hp_lambda:0'] when minimizing the loss. If you're using `model.compile()`, did you forget to provide a `loss`argument?\n",
      "WARNING:tensorflow:Your input ran out of data; interrupting training. Make sure that your dataset or generator can generate at least `steps_per_epoch * epochs` batches (in this case, 200 batches). You may need to use the repeat() function when building your dataset.\n",
      "WARNING:tensorflow:Your input ran out of data; interrupting training. Make sure that your dataset or generator can generate at least `steps_per_epoch * epochs` batches (in this case, 200 batches). You may need to use the repeat() function when building your dataset.\n",
      "WARNING:tensorflow:Gradients do not exist for variables ['hp_lambda:0'] when minimizing the loss. If you're using `model.compile()`, did you forget to provide a `loss`argument?\n",
      "WARNING:tensorflow:Gradients do not exist for variables ['hp_lambda:0'] when minimizing the loss. If you're using `model.compile()`, did you forget to provide a `loss`argument?\n",
      "WARNING:tensorflow:Your input ran out of data; interrupting training. Make sure that your dataset or generator can generate at least `steps_per_epoch * epochs` batches (in this case, 200 batches). You may need to use the repeat() function when building your dataset.\n",
      "WARNING:tensorflow:Your input ran out of data; interrupting training. Make sure that your dataset or generator can generate at least `steps_per_epoch * epochs` batches (in this case, 200 batches). You may need to use the repeat() function when building your dataset.\n",
      "WARNING:tensorflow:Gradients do not exist for variables ['hp_lambda:0'] when minimizing the loss. If you're using `model.compile()`, did you forget to provide a `loss`argument?\n",
      "WARNING:tensorflow:Gradients do not exist for variables ['hp_lambda:0'] when minimizing the loss. If you're using `model.compile()`, did you forget to provide a `loss`argument?\n",
      "WARNING:tensorflow:Your input ran out of data; interrupting training. Make sure that your dataset or generator can generate at least `steps_per_epoch * epochs` batches (in this case, 200 batches). You may need to use the repeat() function when building your dataset.\n",
      "WARNING:tensorflow:Your input ran out of data; interrupting training. Make sure that your dataset or generator can generate at least `steps_per_epoch * epochs` batches (in this case, 200 batches). You may need to use the repeat() function when building your dataset.\n",
      "WARNING:tensorflow:Gradients do not exist for variables ['hp_lambda:0'] when minimizing the loss. If you're using `model.compile()`, did you forget to provide a `loss`argument?\n",
      "WARNING:tensorflow:Gradients do not exist for variables ['hp_lambda:0'] when minimizing the loss. If you're using `model.compile()`, did you forget to provide a `loss`argument?\n",
      "WARNING:tensorflow:Your input ran out of data; interrupting training. Make sure that your dataset or generator can generate at least `steps_per_epoch * epochs` batches (in this case, 200 batches). You may need to use the repeat() function when building your dataset.\n",
      "WARNING:tensorflow:Your input ran out of data; interrupting training. Make sure that your dataset or generator can generate at least `steps_per_epoch * epochs` batches (in this case, 200 batches). You may need to use the repeat() function when building your dataset.\n",
      "WARNING:tensorflow:Gradients do not exist for variables ['hp_lambda:0'] when minimizing the loss. If you're using `model.compile()`, did you forget to provide a `loss`argument?\n",
      "WARNING:tensorflow:Gradients do not exist for variables ['hp_lambda:0'] when minimizing the loss. If you're using `model.compile()`, did you forget to provide a `loss`argument?\n",
      "WARNING:tensorflow:Your input ran out of data; interrupting training. Make sure that your dataset or generator can generate at least `steps_per_epoch * epochs` batches (in this case, 200 batches). You may need to use the repeat() function when building your dataset.\n",
      "WARNING:tensorflow:Your input ran out of data; interrupting training. Make sure that your dataset or generator can generate at least `steps_per_epoch * epochs` batches (in this case, 200 batches). You may need to use the repeat() function when building your dataset.\n",
      "WARNING:tensorflow:Gradients do not exist for variables ['hp_lambda:0'] when minimizing the loss. If you're using `model.compile()`, did you forget to provide a `loss`argument?\n",
      "WARNING:tensorflow:Gradients do not exist for variables ['hp_lambda:0'] when minimizing the loss. If you're using `model.compile()`, did you forget to provide a `loss`argument?\n",
      "WARNING:tensorflow:Your input ran out of data; interrupting training. Make sure that your dataset or generator can generate at least `steps_per_epoch * epochs` batches (in this case, 200 batches). You may need to use the repeat() function when building your dataset.\n",
      "WARNING:tensorflow:Your input ran out of data; interrupting training. Make sure that your dataset or generator can generate at least `steps_per_epoch * epochs` batches (in this case, 200 batches). You may need to use the repeat() function when building your dataset.\n",
      "WARNING:tensorflow:Gradients do not exist for variables ['hp_lambda:0'] when minimizing the loss. If you're using `model.compile()`, did you forget to provide a `loss`argument?\n",
      "WARNING:tensorflow:Gradients do not exist for variables ['hp_lambda:0'] when minimizing the loss. If you're using `model.compile()`, did you forget to provide a `loss`argument?\n",
      "WARNING:tensorflow:Your input ran out of data; interrupting training. Make sure that your dataset or generator can generate at least `steps_per_epoch * epochs` batches (in this case, 200 batches). You may need to use the repeat() function when building your dataset.\n",
      "WARNING:tensorflow:Your input ran out of data; interrupting training. Make sure that your dataset or generator can generate at least `steps_per_epoch * epochs` batches (in this case, 200 batches). You may need to use the repeat() function when building your dataset.\n",
      "WARNING:tensorflow:Gradients do not exist for variables ['hp_lambda:0'] when minimizing the loss. If you're using `model.compile()`, did you forget to provide a `loss`argument?\n",
      "WARNING:tensorflow:Gradients do not exist for variables ['hp_lambda:0'] when minimizing the loss. If you're using `model.compile()`, did you forget to provide a `loss`argument?\n",
      "WARNING:tensorflow:Your input ran out of data; interrupting training. Make sure that your dataset or generator can generate at least `steps_per_epoch * epochs` batches (in this case, 200 batches). You may need to use the repeat() function when building your dataset.\n",
      "WARNING:tensorflow:Your input ran out of data; interrupting training. Make sure that your dataset or generator can generate at least `steps_per_epoch * epochs` batches (in this case, 200 batches). You may need to use the repeat() function when building your dataset.\n",
      "WARNING:tensorflow:Gradients do not exist for variables ['hp_lambda:0'] when minimizing the loss. If you're using `model.compile()`, did you forget to provide a `loss`argument?\n",
      "WARNING:tensorflow:Gradients do not exist for variables ['hp_lambda:0'] when minimizing the loss. If you're using `model.compile()`, did you forget to provide a `loss`argument?\n",
      "WARNING:tensorflow:Your input ran out of data; interrupting training. Make sure that your dataset or generator can generate at least `steps_per_epoch * epochs` batches (in this case, 200 batches). You may need to use the repeat() function when building your dataset.\n",
      "WARNING:tensorflow:Your input ran out of data; interrupting training. Make sure that your dataset or generator can generate at least `steps_per_epoch * epochs` batches (in this case, 200 batches). You may need to use the repeat() function when building your dataset.\n",
      "WARNING:tensorflow:Gradients do not exist for variables ['hp_lambda:0'] when minimizing the loss. If you're using `model.compile()`, did you forget to provide a `loss`argument?\n",
      "WARNING:tensorflow:Gradients do not exist for variables ['hp_lambda:0'] when minimizing the loss. If you're using `model.compile()`, did you forget to provide a `loss`argument?\n",
      "WARNING:tensorflow:Your input ran out of data; interrupting training. Make sure that your dataset or generator can generate at least `steps_per_epoch * epochs` batches (in this case, 200 batches). You may need to use the repeat() function when building your dataset.\n",
      "WARNING:tensorflow:Your input ran out of data; interrupting training. Make sure that your dataset or generator can generate at least `steps_per_epoch * epochs` batches (in this case, 200 batches). You may need to use the repeat() function when building your dataset.\n",
      "WARNING:tensorflow:Gradients do not exist for variables ['hp_lambda:0'] when minimizing the loss. If you're using `model.compile()`, did you forget to provide a `loss`argument?\n",
      "WARNING:tensorflow:Gradients do not exist for variables ['hp_lambda:0'] when minimizing the loss. If you're using `model.compile()`, did you forget to provide a `loss`argument?\n",
      "WARNING:tensorflow:Your input ran out of data; interrupting training. Make sure that your dataset or generator can generate at least `steps_per_epoch * epochs` batches (in this case, 200 batches). You may need to use the repeat() function when building your dataset.\n",
      "WARNING:tensorflow:Your input ran out of data; interrupting training. Make sure that your dataset or generator can generate at least `steps_per_epoch * epochs` batches (in this case, 200 batches). You may need to use the repeat() function when building your dataset.\n",
      "WARNING:tensorflow:Gradients do not exist for variables ['hp_lambda:0'] when minimizing the loss. If you're using `model.compile()`, did you forget to provide a `loss`argument?\n",
      "WARNING:tensorflow:Gradients do not exist for variables ['hp_lambda:0'] when minimizing the loss. If you're using `model.compile()`, did you forget to provide a `loss`argument?\n",
      "WARNING:tensorflow:Your input ran out of data; interrupting training. Make sure that your dataset or generator can generate at least `steps_per_epoch * epochs` batches (in this case, 200 batches). You may need to use the repeat() function when building your dataset.\n",
      "WARNING:tensorflow:Your input ran out of data; interrupting training. Make sure that your dataset or generator can generate at least `steps_per_epoch * epochs` batches (in this case, 200 batches). You may need to use the repeat() function when building your dataset.\n"
     ]
    }
   ],
   "source": [
    "#@title Run ShorT\n",
    "\n",
    "# Ensure that these parameters cover the attribute encoding from LEB to UEB\n",
    "range_grads = [-0.09, -0.07, -0.05, -0.03, -0.02, -0.01, -0.005,0.0, 0.005, 0.01, 0.02, 0.03, 0.05,0.07, 0.09]\n",
    "\n",
    "\n",
    "# This should take some time to run\n",
    "acc_y, acc_a, eo, dp, ep, cf, counter_y, models = shortcut_testing(cfg, dataset,\n",
    "                                                      dataset, dataset,\n",
    "                                                      dataset,\n",
    "                                                      range_grads,\n",
    "                                                      num_epochs_train=10,\n",
    "                                                      num_batch_test=21, seeds= [0])\n"
   ]
  },
  {
   "cell_type": "code",
   "execution_count": 41,
   "metadata": {},
   "outputs": [
    {
     "name": "stdout",
     "output_type": "stream",
     "text": [
      "nan\n",
      "nan\n"
     ]
    },
    {
     "name": "stderr",
     "output_type": "stream",
     "text": [
      "/opt/itu/easybuild/software/Anaconda3/2023.03-1/lib/python3.10/site-packages/scipy/stats/_stats_py.py:4921: ConstantInputWarning: An input array is constant; the correlation coefficient is not defined.\n",
      "  warnings.warn(stats.ConstantInputWarning(warn_msg))\n"
     ]
    }
   ],
   "source": [
    "#@markdown Derive the correlation\n",
    "\n",
    "filt = acc_y >= 0.8  #@param User-defined performance threshold. The goal is to discard trivial models\n",
    "corr, p = scipy.stats.spearmanr(acc_a[filt],cf[filt])\n",
    "print(corr)\n",
    "print(p)\n"
   ]
  },
  {
   "cell_type": "code",
   "execution_count": 42,
   "metadata": {},
   "outputs": [],
   "source": [
    "#@title Plot utils\n",
    "\n",
    "SMALL_SIZE = 10\n",
    "MEDIUM_SIZE = 14\n",
    "BIGGER_SIZE = 18\n",
    "\n",
    "plt.rc('font', size=SMALL_SIZE)          # controls default text sizes\n",
    "plt.rc('axes', titlesize=BIGGER_SIZE)     # fontsize of the axes title\n",
    "plt.rc('axes', labelsize=MEDIUM_SIZE)    # fontsize of the x and y labels\n",
    "plt.rc('xtick', labelsize=MEDIUM_SIZE)    # fontsize of the tick labels\n",
    "plt.rc('ytick', labelsize=MEDIUM_SIZE)    # fontsize of the tick labels\n",
    "plt.rc('legend', fontsize=MEDIUM_SIZE)    # legend fontsize\n",
    "plt.rc('figure', titlesize=BIGGER_SIZE)  # fontsize of the figure title\n",
    "\n",
    "palette = sns.color_palette('tab20b')\n",
    "\n",
    "def plot_scale_gradients_encoding(scale_gradients, encoding_a, \n",
    "                                  upper_bound, lower_bound):\n",
    "  \"\"\"Plots the intervention compared to attribute encoding.\n",
    "\n",
    "  Inputs:\n",
    "  scale_gradients: numpy array of scale gradients used\n",
    "  encoding_a: numpy array of attribute encoding values, as measure by transfer learning\n",
    "  upper_bound: list or numpy array of maximum attribute encoding\n",
    "  lower_bound: list or numpy array of minimum attribute encoding\n",
    "  \"\"\"\n",
    "  \n",
    "  sg_mean = np.mean(encoding_a, axis=1)\n",
    "  sg_std = np.std(encoding_a, axis=1)\n",
    "\n",
    "  fig = plt.figure(figsize=(5,4))\n",
    "  ax = fig.add_axes([0,0,1,1])\n",
    "  ax.errorbar(scale_gradients, sg_mean, \n",
    "                yerr=sg_std, \n",
    "                fmt='x', \n",
    "                color='tab:blue',\n",
    "                ecolor='tab:blue')\n",
    "  plt.hlines(np.mean(upper_bound),np.min(scale_gradients), np.max(scale_gradients),\n",
    "            colors=[0.4,0.4,0.4],linestyles='dashed')\n",
    "  plt.hlines(np.mean(lower_bound),np.min(scale_gradients), np.max(scale_gradients),\n",
    "            colors=[0.4,0.4,0.4],linestyles='dashed')\n",
    "  ax.set_xlabel('Scale Gradient')\n",
    "  ax.set_ylabel('Attribute encoding')\n",
    "  plt.show\n",
    "\n",
    "def plot_fairness_encoding(encoding_m, fair_m, perf_m, perf_thresh = 0):\n",
    "  \"\"\"Plots fairness results vs attribute encoding.\n",
    "  \n",
    "  Inputs:\n",
    "  encoding_m: encoding metric result, as numpy array\n",
    "  fair_m: fairness metric result, as numpy array\n",
    "  perf_m: model performance on the output label, as numpy array\n",
    "  perf_thresh: what minimum performance to consider\n",
    "  \"\"\"\n",
    "\n",
    "  filt = perf_m <= perf_thresh\n",
    "\n",
    "  fig = plt.figure(figsize=(5,4))\n",
    "  plt.scatter(encoding_m, fair_m,color=[0.6,0,0.2],alpha=0.5)\n",
    "  plt.scatter(encoding_m[filt], fair_m[filt],color=[0.2,0.2,0.2])\n",
    "  plt.xlabel('Attribute Accuracy')\n",
    "  plt.ylabel('Fairness')\n",
    "  plt.show()\n",
    "\n",
    "def point_z_order(c, midpoint):\n",
    "  deviation = np.zeros_like(c)\n",
    "  for i in range(c.shape[0]):\n",
    "    if c[i] > midpoint:\n",
    "      deviation[i] = (c[i]-midpoint) / (np.max(c)-midpoint)\n",
    "    else:\n",
    "      deviation[i] = (midpoint-c[i]) / (midpoint-np.min(c))\n",
    "  return np.argsort(deviation)\n",
    "\n",
    "def performance_fairness_age_frontier_plot(encoding_m, fair_m, perf_m,\n",
    "                                           scale_gradients, cmap='PRGn'):\n",
    "  \n",
    "  class MidpointNormalize(mpl.colors.Normalize):\n",
    "    \"\"\"\n",
    "    class to help renormalize the color scale\n",
    "    \"\"\"\n",
    "    def __init__(self, vmin=None, vmax=None, midpoint=None, clip=False):\n",
    "        self.midpoint = midpoint\n",
    "        mpl.colors.Normalize.__init__(self, vmin, vmax, clip)\n",
    "\n",
    "    def __call__(self, value, clip=None):\n",
    "        x, y = [self.vmin, self.midpoint, self.vmax], [0, 0.5, 1]\n",
    "        return np.ma.masked_array(np.interp(value, x, y))\n",
    "\n",
    "  baseline_models = np.argwhere(np.array(scale_gradients)==0.0)[0]\n",
    "  if baseline_models.shape[0] == 0:\n",
    "    baseline_models = int(len(scale_gradients)/2)\n",
    "  midpoint = encoding_m[baseline_models,:].mean()\n",
    "  baseline_model_perf = perf_m[baseline_models,:].mean()\n",
    "  baseline_model_fair = fair_m[baseline_models,:].mean()\n",
    "\n",
    "  print(f'Baseline model Attribute encoding: {midpoint:.2f}')\n",
    "  print(f'Baseline model Performance: {baseline_model_perf:.4f}')\n",
    "  print(f'Baseline model Fairness: {baseline_model_fair:.4f}')\n",
    "\n",
    "  norm =  MidpointNormalize(midpoint = midpoint)\n",
    "\n",
    "  attr = encoding_m.flatten()\n",
    "  z_order = point_z_order(attr, midpoint)\n",
    "\n",
    "  fair =fair_m.flatten()\n",
    "  perf = perf_m.flatten()\n",
    "  fig = plt.figure(figsize=(5,4))\n",
    "  ax = fig.add_axes([0,0,1,1])\n",
    "  plt.scatter(fair[z_order], perf[z_order], s=30, c=attr[z_order], cmap=cmap, norm=norm)\n",
    "  # overplot the baseline models in red\n",
    "  plt.scatter(fair_m[baseline_models,:], perf_m[baseline_models,:], s=30,\n",
    "                   color=(0.8, 0.2, 0.2))\n",
    "  plt.colorbar(cm.ScalarMappable(norm=norm, cmap=cmap),label='Attribute Encoding')\n",
    "  plt.ylabel('Performance')\n",
    "  plt.xlabel('Fairness')\n",
    "  plt.show()"
   ]
  },
  {
   "cell_type": "code",
   "execution_count": 43,
   "metadata": {},
   "outputs": [
    {
     "data": {
      "image/png": "[encoded data removed]",
      "text/plain": [
       "<Figure size 500x400 with 1 Axes>"
      ]
     },
     "metadata": {},
     "output_type": "display_data"
    }
   ],
   "source": [
    "#@title Plot scale gradient vs age encoding\n",
    "plot_scale_gradients_encoding(range_grads, acc_a, upper_bound, lower_bound)"
   ]
  },
  {
   "cell_type": "code",
   "execution_count": 44,
   "metadata": {},
   "outputs": [
    {
     "data": {
      "image/png": "[encoded data removed]",
      "text/plain": [
       "<Figure size 500x400 with 1 Axes>"
      ]
     },
     "metadata": {},
     "output_type": "display_data"
    }
   ],
   "source": [
    "#@title Plot Fairness w.r.t. attribute encoding\n",
    "#suffix = \"{}_EO\".format(cfg_data.corr_a_y1)\n",
    "plot_fairness_encoding(acc_a, cf, acc_y, perf_thresh = 0.8)"
   ]
  },
  {
   "cell_type": "code",
   "execution_count": 45,
   "metadata": {},
   "outputs": [
    {
     "name": "stdout",
     "output_type": "stream",
     "text": [
      "Baseline model Attribute encoding: 0.51\n",
      "Baseline model Performance: 0.8678\n",
      "Baseline model Fairness: 0.2833\n"
     ]
    },
    {
     "name": "stderr",
     "output_type": "stream",
     "text": [
      "/tmp/ipykernel_38913/1052147022.py:113: MatplotlibDeprecationWarning: Unable to determine Axes to steal space for Colorbar. Using gca(), but will raise in the future. Either provide the *cax* argument to use as the Axes for the Colorbar, provide the *ax* argument to steal space from it, or add *mappable* to an Axes.\n",
      "  plt.colorbar(cm.ScalarMappable(norm=norm, cmap=cmap),label='Attribute Encoding')\n"
     ]
    },
    {
     "data": {
      "image/png": "[encoded data removed]",
      "text/plain": [
       "<Figure size 500x400 with 2 Axes>"
      ]
     },
     "metadata": {},
     "output_type": "display_data"
    }
   ],
   "source": [
    "#@title Pareto plot of fairness-performance colored by attribute encoding\n",
    "performance_fairness_age_frontier_plot(acc_a,eo,acc_y,range_grads)\n",
    "\n"
   ]
  },
  {
   "cell_type": "code",
   "execution_count": 48,
   "metadata": {},
   "outputs": [
    {
     "ename": "IndexError",
     "evalue": "boolean index did not match indexed array along dimension 1; dimension is 5 but corresponding boolean dimension is 1",
     "output_type": "error",
     "traceback": [
      "\u001b[0;31m---------------------------------------------------------------------------\u001b[0m",
      "\u001b[0;31mIndexError\u001b[0m                                Traceback (most recent call last)",
      "Cell \u001b[0;32mIn[48], line 7\u001b[0m\n\u001b[1;32m      4\u001b[0m gradient_parameters \u001b[38;5;241m=\u001b[39m np\u001b[38;5;241m.\u001b[39marray(range_grads)\u001b[38;5;241m.\u001b[39mreshape(\u001b[38;5;241m-\u001b[39m\u001b[38;5;241m1\u001b[39m,\u001b[38;5;241m1\u001b[39m)\u001b[38;5;241m.\u001b[39mrepeat(\u001b[38;5;241m5\u001b[39m,axis\u001b[38;5;241m=\u001b[39m\u001b[38;5;241m1\u001b[39m)\n\u001b[1;32m      6\u001b[0m possible_models \u001b[38;5;241m=\u001b[39m acc_y[eo\u001b[38;5;241m<\u001b[39m\u001b[38;5;241m=\u001b[39mfairness_threshold]\n\u001b[0;32m----> 7\u001b[0m possible_gradients \u001b[38;5;241m=\u001b[39m \u001b[43mgradient_parameters\u001b[49m\u001b[43m[\u001b[49m\u001b[43meo\u001b[49m\u001b[38;5;241;43m<\u001b[39;49m\u001b[38;5;241;43m=\u001b[39;49m\u001b[43mfairness_threshold\u001b[49m\u001b[43m]\u001b[49m\n\u001b[1;32m      8\u001b[0m filt \u001b[38;5;241m=\u001b[39m eo\u001b[38;5;241m<\u001b[39m\u001b[38;5;241m=\u001b[39mfairness_threshold\n\u001b[1;32m     10\u001b[0m ind \u001b[38;5;241m=\u001b[39m np\u001b[38;5;241m.\u001b[39margmax(possible_models)\n",
      "\u001b[0;31mIndexError\u001b[0m: boolean index did not match indexed array along dimension 1; dimension is 5 but corresponding boolean dimension is 1"
     ]
    }
   ],
   "source": [
    "#@title Selecting a model and dropping the attribute head for deployment\n",
    "\n",
    "fairness_threshold = 0.09 #@param\n",
    "gradient_parameters = np.array(range_grads).reshape(-1,1).repeat(5,axis=1)\n",
    "\n",
    "possible_models = acc_y[eo<=fairness_threshold]\n",
    "possible_gradients = gradient_parameters[eo<=fairness_threshold]\n",
    "filt = eo<=fairness_threshold\n",
    "\n",
    "ind = np.argmax(possible_models)\n",
    "selected_gradient = float(possible_gradients[ind])\n",
    "selected_model = models[np.argwhere(filt.flatten()).tolist()[ind][0]]\n",
    "print(\"Selected gradient parameter: {}\".format(selected_gradient))\n",
    "print(\"Selected model performance: {}\".format(possible_models[ind]))\n",
    "print(\"Selected model fairness: {}\".format(eo[eo<=fairness_threshold][ind]))"
   ]
  },
  {
   "cell_type": "code",
   "execution_count": 47,
   "metadata": {},
   "outputs": [
    {
     "ename": "NameError",
     "evalue": "name 'selected_model' is not defined",
     "output_type": "error",
     "traceback": [
      "\u001b[0;31m---------------------------------------------------------------------------\u001b[0m",
      "\u001b[0;31mNameError\u001b[0m                                 Traceback (most recent call last)",
      "Cell \u001b[0;32mIn[47], line 1\u001b[0m\n\u001b[0;32m----> 1\u001b[0m \u001b[43mselected_model\u001b[49m\u001b[38;5;241m.\u001b[39mmodel\u001b[38;5;241m.\u001b[39msummary()\n",
      "\u001b[0;31mNameError\u001b[0m: name 'selected_model' is not defined"
     ]
    }
   ],
   "source": [
    "selected_model.model.summary()"
   ]
  },
  {
   "cell_type": "code",
   "execution_count": null,
   "metadata": {},
   "outputs": [],
   "source": [
    "# Create a new model by selecting all layers except the ones related to the attribute\n",
    "remove = ['attribute', 'attr_branch', 'gradient']  # corresponds to the names of the layer (partial matches ok), as defined in the MultiHead class\n",
    "\n",
    "final_model = tf.keras.Sequential()\n",
    "for layer in clf.model.layers:\n",
    "  match = [to_pop in layer.name for to_pop in remove]\n",
    "  if not any(match):\n",
    "    final_model.add(layer)\n",
    "    layer.trainable = False\n"
   ]
  },
  {
   "cell_type": "code",
   "execution_count": null,
   "metadata": {},
   "outputs": [
    {
     "name": "stdout",
     "output_type": "stream",
     "text": [
      "Model: \"sequential\"\n",
      "_________________________________________________________________\n",
      " Layer (type)                Output Shape              Param #   \n",
      "=================================================================\n",
      " flatten_10 (Flatten)        (None, 2352)              0         \n",
      "                                                                 \n",
      " dense_30 (Dense)            (None, 10)                23530     \n",
      "                                                                 \n",
      " dense_31 (Dense)            (None, 10)                110       \n",
      "                                                                 \n",
      " dense_32 (Dense)            (None, 10)                110       \n",
      "                                                                 \n",
      " output (Dense)              (None, 1)                 11        \n",
      "                                                                 \n",
      "=================================================================\n",
      "Total params: 23,761\n",
      "Trainable params: 0\n",
      "Non-trainable params: 23,761\n",
      "_________________________________________________________________\n"
     ]
    }
   ],
   "source": [
    "final_model.summary()"
   ]
  },
  {
   "cell_type": "code",
   "execution_count": null,
   "metadata": {},
   "outputs": [],
   "source": [
    "x = test_dataset['train']['image']\n",
    "y_pred = final_model.predict_on_batch(x)"
   ]
  },
  {
   "cell_type": "code",
   "execution_count": null,
   "metadata": {},
   "outputs": [
    {
     "data": {
      "text/plain": [
       "0.8332877499999999"
      ]
     },
     "metadata": {},
     "output_type": "display_data"
    }
   ],
   "source": [
    "sklearn.metrics.roc_auc_score(test_dataset['train']['label'], y_pred)"
   ]
  }
 ],
 "metadata": {
  "kernelspec": {
   "display_name": "Python 3 (ipykernel)",
   "language": "python",
   "name": "python3"
  },
  "language_info": {
   "codemirror_mode": {
    "name": "ipython",
    "version": 3
   },
   "file_extension": ".py",
   "mimetype": "text/x-python",
   "name": "python",
   "nbconvert_exporter": "python",
   "pygments_lexer": "ipython3",
   "version": "3.10.9"
  }
 },
 "nbformat": 4,
 "nbformat_minor": 2
}
