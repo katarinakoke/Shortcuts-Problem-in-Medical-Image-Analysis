{
 "cells": [
  {
   "cell_type": "code",
   "execution_count": 1,
   "metadata": {},
   "outputs": [],
   "source": [
    "import pandas as pd "
   ]
  },
  {
   "cell_type": "code",
   "execution_count": 3,
   "metadata": {},
   "outputs": [
    {
     "name": "stderr",
     "output_type": "stream",
     "text": [
      "<ipython-input-3-093c30e57e19>:5: FutureWarning: The default value of regex will change from True to False in a future version.\n",
      "  df['Path'] = df['Path'].str.replace('CheXpert-v1.0', 'CheXpert-v1.0-small')\n"
     ]
    }
   ],
   "source": [
    "# Load your dataset\n",
    "df = pd.read_csv('/home/pmen/Shortcuts-Problem-in-Medical-Image-Analysis/shortcuts-chest-xray/subsets/30k-2-val.csv')\n",
    "\n",
    "# Replace 'CheXpert-v1.0' with 'CheXpert-v1.0-small' in the 'Path' column\n",
    "df['Path'] = df['Path'].str.replace('CheXpert-v1.0', 'CheXpert-v1.0-small')\n",
    "\n",
    "# Optionally, save the modified DataFrame back to a CSV file\n",
    "df.to_csv('/home/pmen/Shortcuts-Problem-in-Medical-Image-Analysis/shortcuts-chest-xray/subsets2/30k-2-val.csv', index=False)"
   ]
  },
  {
   "cell_type": "code",
   "execution_count": 1,
   "metadata": {},
   "outputs": [
    {
     "name": "stdout",
     "output_type": "stream",
     "text": [
      "Using GPU: NVIDIA GeForce GTX 1080 Ti\n"
     ]
    }
   ],
   "source": [
    "\n",
    "import torch\n",
    "\n",
    "if torch.cuda.is_available():\n",
    "    device = torch.device(\"cuda\")\n",
    "    print(f\"Using GPU: {torch.cuda.get_device_name(0)}\")\n",
    "else:\n",
    "    device = torch.device(\"cpu\")\n",
    "    print(\"Using CPU\")\n"
   ]
  },
  {
   "cell_type": "code",
   "execution_count": 17,
   "metadata": {},
   "outputs": [],
   "source": [
    "import numpy as np\n",
    "from torch.utils.data import Dataset\n",
    "import cv2\n",
    "import os\n",
    "from PIL import Image\n",
    "from data.imgaug import GetTransforms\n",
    "from data.utils import transform\n",
    "\n",
    "np.random.seed(0)\n",
    "\n",
    "\n",
    "class ImageDataset(Dataset):\n",
    "    def __init__(self, label_path, cfg, mode='train'):\n",
    "        self.cfg = cfg\n",
    "        self._label_header = None\n",
    "        self._image_paths = []\n",
    "        self._labels = []\n",
    "        self._senstive_attribute = []\n",
    "        self._mode = mode\n",
    "        self.dict = {'1.0': '1', '1': '1', '': '0', '0.0': '0', '0': '0', '-1.0': '0', '-1': '0', 'Female': '1', 'Male': '0', 'Unknown': '0'}\n",
    "        with open(label_path) as f:\n",
    "            header = f.readline().strip('\\n').split(',')\n",
    "            idx_pneumothorax = header.index('Pneumothorax')\n",
    "            idx_sensitive_attribute = header.index(cfg.get('sensitive_attribute'))\n",
    "            self._label_header = [header[idx_pneumothorax]]\n",
    "            for line in f:\n",
    "                fields = line.strip('\\n').split(',')\n",
    "\n",
    "                labels = [int(self.dict.get(fields[idx_pneumothorax]))]\n",
    "                self._labels.append(labels)\n",
    "\n",
    "                sensitive_attribute = [int(self.dict.get(fields[idx_sensitive_attribute]))]\n",
    "                self._senstive_attribute.append(sensitive_attribute)\n",
    "\n",
    "                image_path = fields[0]\n",
    "                image_path = os.path.join(cfg.base_path, os.path.join(*(image_path.split(os.path.sep)[1:])))\n",
    "                self._image_paths.append(image_path)\n",
    "                assert os.path.exists(image_path), image_path\n",
    "\n",
    "                break\n",
    "\n",
    "        self._num_image = len(self._image_paths)\n",
    "\n",
    "    def __len__(self):\n",
    "        return self._num_image\n",
    "\n",
    "    def __getitem__(self, idx):\n",
    "        image = cv2.imread(self._image_paths[idx], 0)\n",
    "        image = Image.fromarray(image)\n",
    "        if self._mode == 'train':\n",
    "            image = GetTransforms(image, type=self.cfg.use_transforms_type)\n",
    "        image = np.array(image)\n",
    "        image = transform(image, self.cfg)\n",
    "        labels = np.array(self._labels[idx]).astype(np.float32)\n",
    "        sensitive_attribute = np.array(self._senstive_attribute[idx]).astype(np.float32)\n",
    "\n",
    "        path = self._image_paths[idx]\n",
    "\n",
    "        if self._mode == 'train' or self._mode == 'dev':\n",
    "            return (image, labels, sensitive_attribute)\n",
    "        elif self._mode == 'test':\n",
    "            return (image, path)\n",
    "        elif self._mode == 'heatmap':\n",
    "            return (image, path, labels)\n",
    "        else:\n",
    "            raise Exception('Unknown mode : {}'.format(self._mode))\n"
   ]
  },
  {
   "cell_type": "code",
   "execution_count": 22,
   "metadata": {},
   "outputs": [],
   "source": [
    "from torch.utils.data import DataLoader\n",
    "dataloader_train = DataLoader(\n",
    "        ImageDataset(cfg.train_csv, cfg, mode='train'),\n",
    "        batch_size=1, num_workers=0,\n",
    "        drop_last=True, shuffle=True)"
   ]
  },
  {
   "cell_type": "code",
   "execution_count": 23,
   "metadata": {},
   "outputs": [
    {
     "data": {
      "text/plain": [
       "<torch.utils.data.dataloader.DataLoader at 0x7fd9b88f5a00>"
      ]
     },
     "execution_count": 23,
     "metadata": {},
     "output_type": "execute_result"
    }
   ],
   "source": [
    "dataloader_train"
   ]
  },
  {
   "cell_type": "code",
   "execution_count": 18,
   "metadata": {},
   "outputs": [],
   "source": [
    "data =  ImageDataset(cfg.train_csv, cfg, mode='train')"
   ]
  },
  {
   "cell_type": "code",
   "execution_count": 20,
   "metadata": {},
   "outputs": [
    {
     "data": {
      "text/plain": [
       "(array([[[0.109375, 0.109375, 0.109375, ..., 0.109375, 0.109375,\n",
       "          0.109375],\n",
       "         [0.109375, 0.109375, 0.109375, ..., 0.109375, 0.109375,\n",
       "          0.109375],\n",
       "         [0.109375, 0.109375, 0.109375, ..., 0.109375, 0.109375,\n",
       "          0.109375],\n",
       "         ...,\n",
       "         [0.      , 0.      , 0.      , ..., 0.      , 0.      ,\n",
       "          0.      ],\n",
       "         [0.      , 0.      , 0.      , ..., 0.      , 0.      ,\n",
       "          0.      ],\n",
       "         [0.      , 0.      , 0.      , ..., 0.      , 0.      ,\n",
       "          0.      ]],\n",
       " \n",
       "        [[0.109375, 0.109375, 0.109375, ..., 0.109375, 0.109375,\n",
       "          0.109375],\n",
       "         [0.109375, 0.109375, 0.109375, ..., 0.109375, 0.109375,\n",
       "          0.109375],\n",
       "         [0.109375, 0.109375, 0.109375, ..., 0.109375, 0.109375,\n",
       "          0.109375],\n",
       "         ...,\n",
       "         [0.      , 0.      , 0.      , ..., 0.      , 0.      ,\n",
       "          0.      ],\n",
       "         [0.      , 0.      , 0.      , ..., 0.      , 0.      ,\n",
       "          0.      ],\n",
       "         [0.      , 0.      , 0.      , ..., 0.      , 0.      ,\n",
       "          0.      ]],\n",
       " \n",
       "        [[0.109375, 0.109375, 0.109375, ..., 0.109375, 0.109375,\n",
       "          0.109375],\n",
       "         [0.109375, 0.109375, 0.109375, ..., 0.109375, 0.109375,\n",
       "          0.109375],\n",
       "         [0.109375, 0.109375, 0.109375, ..., 0.109375, 0.109375,\n",
       "          0.109375],\n",
       "         ...,\n",
       "         [0.      , 0.      , 0.      , ..., 0.      , 0.      ,\n",
       "          0.      ],\n",
       "         [0.      , 0.      , 0.      , ..., 0.      , 0.      ,\n",
       "          0.      ],\n",
       "         [0.      , 0.      , 0.      , ..., 0.      , 0.      ,\n",
       "          0.      ]]], dtype=float32),\n",
       " array([1.], dtype=float32),\n",
       " array([1.], dtype=float32))"
      ]
     },
     "execution_count": 20,
     "metadata": {},
     "output_type": "execute_result"
    }
   ],
   "source": [
    "data.__getitem__(0)"
   ]
  },
  {
   "cell_type": "code",
   "execution_count": 12,
   "metadata": {},
   "outputs": [
    {
     "name": "stdout",
     "output_type": "stream",
     "text": [
      "Sex\n"
     ]
    }
   ],
   "source": [
    "print(cfg.get('sensitive_attribute'))  # This should not print None if everything is correct\n",
    "# "
   ]
  },
  {
   "cell_type": "code",
   "execution_count": 11,
   "metadata": {},
   "outputs": [],
   "source": [
    "config_path = '/home/pmen/Shortcuts-Problem-in-Medical-Image-Analysis/shortcuts-chest-xray/config/config.json'\n",
    "from ml_collections import ConfigDict\n",
    "# Assuming you have loaded your config as a dictionary named cfg\n",
    "with open(config_path, 'r') as f:\n",
    "    cfg = json.load(f)\n",
    "\n",
    "# Convert the dictionary to a ConfigDict which allows attribute-like access\n",
    "cfg = ConfigDict(cfg)"
   ]
  },
  {
   "cell_type": "code",
   "execution_count": 1,
   "metadata": {},
   "outputs": [],
   "source": [
    "import os\n",
    "\n",
    "new_directory = \"/home/pmen/Shortcuts-Problem-in-Medical-Image-Analysis/shortcuts-chest-xray\"\n",
    "\n",
    "os.chdir(new_directory)\n"
   ]
  }
 ],
 "metadata": {
  "kernelspec": {
   "display_name": "Python 3",
   "language": "python",
   "name": "python3"
  },
  "language_info": {
   "codemirror_mode": {
    "name": "ipython",
    "version": 3
   },
   "file_extension": ".py",
   "mimetype": "text/x-python",
   "name": "python",
   "nbconvert_exporter": "python",
   "pygments_lexer": "ipython3",
   "version": "3.8.8"
  }
 },
 "nbformat": 4,
 "nbformat_minor": 2
}
